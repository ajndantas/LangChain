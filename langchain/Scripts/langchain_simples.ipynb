{
 "cells": [
  {
   "cell_type": "markdown",
   "id": "b7738885",
   "metadata": {},
   "source": [
    "## <a href=\"https://cursos.alura.com.br/course/langchain-python-ferramentas-llm-openai/task/156160\">Gerando dicas de viagem com a OpenAI e o GPT 3.5 - parte 2</a><br/>\n",
    "##### <li> O objetivo será criar um cliente, agora usando o LangChain"
   ]
  },
  {
   "cell_type": "markdown",
   "id": "5ab88ca4",
   "metadata": {},
   "source": [
    "### <b>CRIANDO CLIENTE USANDO O LANGCHAIN</b>"
   ]
  },
  {
   "cell_type": "markdown",
   "id": "46253e49",
   "metadata": {},
   "source": [
    "#### <b>PASSO 1 - IMPORTS</b>"
   ]
  },
  {
   "cell_type": "code",
   "execution_count": 4,
   "id": "ddc6f24f",
   "metadata": {},
   "outputs": [
    {
     "data": {
      "text/plain": [
       "True"
      ]
     },
     "execution_count": 4,
     "metadata": {},
     "output_type": "execute_result"
    }
   ],
   "source": [
    "from langchain_openai import ChatOpenAI # JÁ PEDE A API DE CHAT DIRETO\n",
    "from os import getenv\n",
    "from dotenv import load_dotenv # CARREGA A VARIÁVEL DE AMBIENTE OPENAI_KEY LIDA DO ARQUIVO .env\n",
    "\n",
    "load_dotenv() # CARREGANDO O ARQUIVO COM A OPENAI_KEY"
   ]
  },
  {
   "cell_type": "code",
   "execution_count": 5,
   "id": "2e39a0b2",
   "metadata": {},
   "outputs": [
    {
     "name": "stdout",
     "output_type": "stream",
     "text": [
      "Note: you may need to restart the kernel to use updated packages.\n"
     ]
    }
   ],
   "source": [
    "%pip install -qr requirements.txt"
   ]
  },
  {
   "cell_type": "code",
   "execution_count": 6,
   "id": "41322662",
   "metadata": {},
   "outputs": [],
   "source": [
    "numero_de_dias = 7\n",
    "numero_de_criancas = 2\n",
    "atividade = \"praia\""
   ]
  },
  {
   "cell_type": "markdown",
   "id": "9868db52",
   "metadata": {},
   "source": [
    "#### <b>PASSO 2 - CRIANDO O PROMPT</b></br>\n",
    "##### <b><li> Sem prompt template</b>"
   ]
  },
  {
   "cell_type": "code",
   "execution_count": 7,
   "id": "460061fd",
   "metadata": {},
   "outputs": [
    {
     "name": "stdout",
     "output_type": "stream",
     "text": [
      "Crie um roteiro de viagem de 7 dias, para uma família com 2 crianças, que gostam de praia e cite a cidade.\n"
     ]
    }
   ],
   "source": [
    "prompt = f\"Crie um roteiro de viagem de {numero_de_dias} dias, para uma família com {numero_de_criancas} crianças, que gostam de {atividade} e cite a cidade.\"\n",
    "print(prompt)"
   ]
  },
  {
   "cell_type": "markdown",
   "id": "080ac604",
   "metadata": {},
   "source": [
    "##### [<li><b>Com prompt template</b></li>](\"https://cursos.alura.com.br/course/langchain-python-ferramentas-llm-openai/task/156162\")\n",
    "<ul><li>As vantagens do uso de prompt templates são:</li></ul>\n",
    "<ul><ul><li>Padronização: Garante consistência na forma como as instruções são passadas ao modelo.</li></ul></ul>\n",
    "<ul><ul><li>Eficiência: Evita retrabalho ao reutilizar estruturas prontas para diferentes entradas.</ul></ul></li>\n",
    "<ul><ul><li>Escalabilidade: Facilita a automação e aplicação em larga escala (ex.: via scripts ou APIs).</ul></ul></li>\n",
    "<ul><ul><li>Qualidade: Aumenta a chance de obter respostas mais precisas e relevantes, ao estruturar melhor o contexto.</ul></ul></li>\n",
    "<ul><ul><li>Facilidade de teste e ajuste: Permite comparar variações sistemáticas do prompt para otimização.</ul></ul></li>\n",
    "\n",
    "<ul><li>Esses templates são especialmente úteis em aplicações como chatbots, geração de conteúdo e classificação de dados.</li></ul><br/>\n"
   ]
  },
  {
   "cell_type": "markdown",
   "id": "39ef638f",
   "metadata": {},
   "source": [
    "<ul><li><b>ETAPAS DE CRIAÇÃO</b></li></ul>"
   ]
  },
  {
   "cell_type": "markdown",
   "id": "443f1618",
   "metadata": {},
   "source": [
    "<ul><ul><li>PASSO 1 - CRIANDO O TEMPLATE</li></ul></ul>\n",
    "<ul><ul><li>PASSO 2 - INSTANCIANDO O PROMPT TEMPLATE E INICIALIZANDO A PARTIR DE UM TEMPLATE (from_template).</ul></ul></li> \n",
    "<ul><ul><li>PASSO 3 - FORMATANDO O TEMPLATE</ul></ul></li>"
   ]
  },
  {
   "cell_type": "markdown",
   "id": "073a9290",
   "metadata": {},
   "source": [
    "<ul><ul><li>PASSO 1 - CRIANDO O TEMPLATE</li></ul></ul>"
   ]
  },
  {
   "cell_type": "code",
   "execution_count": 8,
   "id": "42dca9cd",
   "metadata": {},
   "outputs": [],
   "source": [
    "from langchain.prompts import PromptTemplate\n",
    "\n",
    "# PASSO 1 - CRIANDO O TEMPLATE\n",
    "template = \"Crie um roteiro de viagem de {dias} dias, para uma família com {criancas} crianças, que gostam de {atividade} e cite a cidade.\" # TEMPLATE É UM MODELO DE FORMULÁRIO\n",
    "                                                                                                                                            # PERCEBA QUE NÃO ESTÁ COM O f NO INÍCIO, \n",
    "                                                                                                                                            # PARA PEGAR VALORES DE VARIÁVIES"
   ]
  },
  {
   "cell_type": "markdown",
   "id": "9da27071",
   "metadata": {},
   "source": [
    "<ul><ul><li>PASSO 2 - INSTANCIANDO O PROMPT TEMPLATE E INICIALIZANDO A PARTIR DE UM TEMPLATE (from_template)</ul></ul></li>\n",
    "<ul><ul><ul><li>Existem outras formas existentes na <a href=\"https://api.python.langchain.com/en/latest/prompts/langchain_core.prompts.prompt.PromptTemplate.html\">documentação.</a> (Ex: A partir de um arquivo)</ul></ul></ul></li>"
   ]
  },
  {
   "cell_type": "code",
   "execution_count": null,
   "id": "4dc20183",
   "metadata": {},
   "outputs": [],
   "source": [
    "# PASSO 2 - INSTANCIANDO E INICIALIZANDO O PROMPT TEMPLATE A PARTIR DO TEMPLATE (from_template)\n",
    "prompt_template = PromptTemplate.from_template(template) # INICIALIZANDO A PARTIR DE UMA STRING, PODE-SE INICIALIZAR A PARTIR DE OUTRAS FORMAS (Ex: Arquivo)"
   ]
  },
  {
   "cell_type": "markdown",
   "id": "9e58973d",
   "metadata": {},
   "source": [
    "<ul><ul><li>PASSO 3 - FORMATANDO O TEMPLATE</ul></ul></li>"
   ]
  },
  {
   "cell_type": "code",
   "execution_count": 10,
   "id": "4668cb53",
   "metadata": {},
   "outputs": [
    {
     "name": "stdout",
     "output_type": "stream",
     "text": [
      "Crie um roteiro de viagem de 7 dias, para uma família com 2 crianças, que gostam de praia e cite a cidade.\n"
     ]
    }
   ],
   "source": [
    "# PASSO 3 - FORMATANDO O TEMPLATE\n",
    "# FORMATANDO O prompt_template. PRENCHENDO O MEU FORMULÁRIO\n",
    "prompt_template = prompt_template.format(dias=numero_de_dias, criancas=numero_de_criancas, atividade=atividade)\n",
    "\n",
    "# PROMPT CRIADO\n",
    "prompt = prompt_template\n",
    "\n",
    "print(prompt)\n"
   ]
  },
  {
   "cell_type": "markdown",
   "id": "bfa2ca92",
   "metadata": {},
   "source": [
    "#### <b>PASSO 3 - INSTANCIANDO O LLM</b></br>"
   ]
  },
  {
   "cell_type": "code",
   "execution_count": 11,
   "id": "c981514a",
   "metadata": {},
   "outputs": [],
   "source": [
    "llm = ChatOpenAI( # INSTANCIANDO A LLM\n",
    "                    model=\"gpt-4.1-mini\",\n",
    "                    temperature=0.5,\n",
    "                    # 1 - OBTENDO A API KEY POR MEIO DA VARIÁVEL DE AMBIENTE OPENAI_KEY. QUE VAI FICAR ARMAZENADA NO ARQUIVO .env.\n",
    "                    # 2 - AINDA É NECESSÁRIO CARREGAR ESSE ARQUIVO. VER NA PRIMEIRA CÉLULA DO NOTEBOOK\n",
    "                    api_key=getenv(\"OPENAI_KEY\")\n",
    "                )"
   ]
  },
  {
   "cell_type": "markdown",
   "id": "a847f1dd",
   "metadata": {},
   "source": [
    "#### <b>PASSO 4 - INVOCANDO</b>"
   ]
  },
  {
   "cell_type": "code",
   "execution_count": 12,
   "id": "b8ac64c5",
   "metadata": {},
   "outputs": [
    {
     "name": "stdout",
     "output_type": "stream",
     "text": [
      "content='Claro! Vou criar um roteiro de 7 dias para uma família com duas crianças que gostam de praia, na cidade de Florianópolis, Santa Catarina, que é uma excelente opção com praias lindas e infraestrutura para famílias.\\n\\n---\\n\\n### Roteiro de 7 dias em Florianópolis para família com crianças\\n\\n**Dia 1 – Chegada e Praia da Joaquina**  \\n- Chegada em Florianópolis e acomodação no hotel/pousada.  \\n- Tarde na Praia da Joaquina, famosa pelas dunas e mar calmo em algumas áreas. As crianças podem brincar na areia e, se quiserem, experimentar o sandboard nas dunas (atividade supervisionada).  \\n- Jantar em restaurante familiar próximo à praia.\\n\\n**Dia 2 – Praia dos Ingleses**  \\n- Manhã e tarde na Praia dos Ingleses, que tem águas calmas e é ótima para crianças.  \\n- Almoço em quiosque à beira-mar.  \\n- Passeio pelo centrinho dos Ingleses com sorvete e compras de artesanato.  \\n- Retorno ao hotel para descanso.\\n\\n**Dia 3 – Ilha do Campeche**  \\n- Passeio de barco até a Ilha do Campeche, uma das praias mais bonitas da região, com águas cristalinas e trilhas para explorar.  \\n- Levar lanche ou fazer piquenique na ilha.  \\n- Retorno à tarde para Florianópolis.  \\n- Jantar em restaurante com pratos locais.\\n\\n**Dia 4 – Praia de Daniela e Projeto Tamar**  \\n- Visita à Praia da Daniela, que tem mar calmo e estrutura para famílias.  \\n- Visita ao Projeto Tamar em Florianópolis, que é uma atração educativa e divertida para as crianças conhecerem mais sobre tartarugas marinhas.  \\n- Tarde livre para brincar na praia ou piscina do hotel.\\n\\n**Dia 5 – Lagoa da Conceição e Praia Mole**  \\n- Passeio pela Lagoa da Conceição, com parada para almoço em restaurante com vista para a lagoa.  \\n- Tarde na Praia Mole, que tem uma vibe mais jovem, mas com áreas calmas para crianças brincarem.  \\n- Sorvete e passeio pelo centrinho da Lagoa.\\n\\n**Dia 6 – Praia do Santinho**  \\n- Dia na Praia do Santinho, que tem faixa de areia extensa e é ótima para caminhadas e brincadeiras.  \\n- Visita às inscrições rupestres próximas à praia (curiosidade para as crianças).  \\n- Almoço em restaurante local.  \\n- Retorno e descanso.\\n\\n**Dia 7 – Praia de Canasvieiras e despedida**  \\n- Manhã na Praia de Canasvieiras, que tem águas calmas e infraestrutura com quiosques e aluguel de cadeiras.  \\n- Almoço na praia.  \\n- Retorno ao hotel para preparação da viagem de volta.\\n\\n---\\n\\nSe quiser, posso ajudar também com sugestões de hospedagem, restaurantes e transporte. Quer?' additional_kwargs={'refusal': None} response_metadata={'token_usage': {'completion_tokens': 600, 'prompt_tokens': 35, 'total_tokens': 635, 'completion_tokens_details': {'accepted_prediction_tokens': 0, 'audio_tokens': 0, 'reasoning_tokens': 0, 'rejected_prediction_tokens': 0}, 'prompt_tokens_details': {'audio_tokens': 0, 'cached_tokens': 0}}, 'model_name': 'gpt-4.1-mini-2025-04-14', 'system_fingerprint': 'fp_6f2eabb9a5', 'finish_reason': 'stop', 'logprobs': None} id='run--c7dd5cf0-137f-4e4a-b3bc-dee820e71e36-0' usage_metadata={'input_tokens': 35, 'output_tokens': 600, 'total_tokens': 635, 'input_token_details': {'audio': 0, 'cache_read': 0}, 'output_token_details': {'audio': 0, 'reasoning': 0}}\n"
     ]
    }
   ],
   "source": [
    "# SE EU QUISER UTILIZAR A MINHA LLM, BASTA INVOCAR ALGO NELA\n",
    "resposta = llm.invoke(prompt)\n",
    "print(resposta)"
   ]
  },
  {
   "cell_type": "markdown",
   "id": "a98bd8b1",
   "metadata": {},
   "source": [
    "#### <b>OBTENDO APENAS O CONTEÚDO DA MENSAGEM</b>"
   ]
  },
  {
   "cell_type": "code",
   "execution_count": 13,
   "id": "8b472304",
   "metadata": {},
   "outputs": [
    {
     "name": "stdout",
     "output_type": "stream",
     "text": [
      "Claro! Vou criar um roteiro de 7 dias para uma família com duas crianças que gostam de praia, na cidade de Florianópolis, Santa Catarina, que é uma excelente opção com praias lindas e infraestrutura para famílias.\n",
      "\n",
      "---\n",
      "\n",
      "### Roteiro de 7 dias em Florianópolis para família com crianças\n",
      "\n",
      "**Dia 1 – Chegada e Praia da Joaquina**  \n",
      "- Chegada em Florianópolis e acomodação no hotel/pousada.  \n",
      "- Tarde na Praia da Joaquina, famosa pelas dunas e mar calmo em algumas áreas. As crianças podem brincar na areia e, se quiserem, experimentar o sandboard nas dunas (atividade supervisionada).  \n",
      "- Jantar em restaurante familiar próximo à praia.\n",
      "\n",
      "**Dia 2 – Praia dos Ingleses**  \n",
      "- Manhã e tarde na Praia dos Ingleses, que tem águas calmas e é ótima para crianças.  \n",
      "- Almoço em quiosque à beira-mar.  \n",
      "- Passeio pelo centrinho dos Ingleses com sorvete e compras de artesanato.  \n",
      "- Retorno ao hotel para descanso.\n",
      "\n",
      "**Dia 3 – Ilha do Campeche**  \n",
      "- Passeio de barco até a Ilha do Campeche, uma das praias mais bonitas da região, com águas cristalinas e trilhas para explorar.  \n",
      "- Levar lanche ou fazer piquenique na ilha.  \n",
      "- Retorno à tarde para Florianópolis.  \n",
      "- Jantar em restaurante com pratos locais.\n",
      "\n",
      "**Dia 4 – Praia de Daniela e Projeto Tamar**  \n",
      "- Visita à Praia da Daniela, que tem mar calmo e estrutura para famílias.  \n",
      "- Visita ao Projeto Tamar em Florianópolis, que é uma atração educativa e divertida para as crianças conhecerem mais sobre tartarugas marinhas.  \n",
      "- Tarde livre para brincar na praia ou piscina do hotel.\n",
      "\n",
      "**Dia 5 – Lagoa da Conceição e Praia Mole**  \n",
      "- Passeio pela Lagoa da Conceição, com parada para almoço em restaurante com vista para a lagoa.  \n",
      "- Tarde na Praia Mole, que tem uma vibe mais jovem, mas com áreas calmas para crianças brincarem.  \n",
      "- Sorvete e passeio pelo centrinho da Lagoa.\n",
      "\n",
      "**Dia 6 – Praia do Santinho**  \n",
      "- Dia na Praia do Santinho, que tem faixa de areia extensa e é ótima para caminhadas e brincadeiras.  \n",
      "- Visita às inscrições rupestres próximas à praia (curiosidade para as crianças).  \n",
      "- Almoço em restaurante local.  \n",
      "- Retorno e descanso.\n",
      "\n",
      "**Dia 7 – Praia de Canasvieiras e despedida**  \n",
      "- Manhã na Praia de Canasvieiras, que tem águas calmas e infraestrutura com quiosques e aluguel de cadeiras.  \n",
      "- Almoço na praia.  \n",
      "- Retorno ao hotel para preparação da viagem de volta.\n",
      "\n",
      "---\n",
      "\n",
      "Se quiser, posso ajudar também com sugestões de hospedagem, restaurantes e transporte. Quer?\n"
     ]
    }
   ],
   "source": [
    "print(resposta.content)"
   ]
  },
  {
   "cell_type": "markdown",
   "id": "46a5eb63",
   "metadata": {},
   "source": [
    "<b>IMPLEMENTAÇÃO MAIS LIMPA DO QUE USANDO A API</b>"
   ]
  },
  {
   "cell_type": "markdown",
   "id": "92127f33",
   "metadata": {},
   "source": [
    "### <b>CHAT PROMPT TEMPLATE</b> (Bônus)"
   ]
  },
  {
   "cell_type": "markdown",
   "id": "46b4e8f7",
   "metadata": {},
   "source": [
    "<ul><li>Para criação de diálogos interativos, especialmente em jogos ou aplicações de chatbot, a LangChain oferece o ChatPromptTemplate. Veja um exemplo de como criar um diálogo interativo para um cenário de RPG:</li></ul>"
   ]
  },
  {
   "cell_type": "markdown",
   "id": "47098543",
   "metadata": {},
   "source": [
    "<ul><li>Inicializando a partir de mensagens (from_messages)</li></ul>"
   ]
  },
  {
   "cell_type": "code",
   "execution_count": 14,
   "id": "cbb18803",
   "metadata": {},
   "outputs": [
    {
     "name": "stdout",
     "output_type": "stream",
     "text": [
      "[AIMessage(content='Você está em Eldoria, uma cidade antiga conhecida por suas ruínas místicas e mercados movimentados.', additional_kwargs={}, response_metadata={}), AIMessage(content='O Templo de Solara é o coração espiritual de Eldoria, famoso por seu vasto acervo de relíquias sagradas e histórias antigas.', additional_kwargs={}, response_metadata={})]\n",
      "Você está em Eldoria, uma cidade antiga conhecida por suas ruínas místicas e mercados movimentados.\n",
      "O Templo de Solara é o coração espiritual de Eldoria, famoso por seu vasto acervo de relíquias sagradas e histórias antigas.\n"
     ]
    }
   ],
   "source": [
    "from langchain.prompts import ChatPromptTemplate\n",
    "\n",
    "\n",
    "# Criando um template de chat para um cenário de RPG\n",
    "chat_template = ChatPromptTemplate.from_messages(\n",
    "    [\n",
    "        (\"system\", \"Você é o narrador de uma aventura de RPG.\"), # MSG TYPE = ROLE, MESSAGE \n",
    "        (\"human\", \"Me conte sobre a cidade que estamos explorando.\"),\n",
    "        (\"ai\", \"Você está em Eldoria, uma cidade antiga conhecida por suas ruínas místicas e mercados movimentados.\"),\n",
    "        (\"human\", \"Quero saber mais sobre o templo principal.\"),\n",
    "        (\"ai\", \"O Templo de Solara é o coração espiritual de Eldoria, famoso por seu vasto acervo de relíquias sagradas e histórias antigas.\")\n",
    "    ]\n",
    ")\n",
    "\n",
    "# Formatando as mensagens para um diálogo específico\n",
    "dialogo = chat_template.format_messages()\n",
    "\n",
    "# OBTENDO APENAS AS MENSAGENS DA AI:\n",
    "messages = [m for m in dialogo if m.type == 'ai']\n",
    "print(messages)\n",
    "\n",
    "for msg in messages:\n",
    "    print(msg.content)"
   ]
  }
 ],
 "metadata": {
  "kernelspec": {
   "display_name": "langchain",
   "language": "python",
   "name": "python3"
  },
  "language_info": {
   "codemirror_mode": {
    "name": "ipython",
    "version": 3
   },
   "file_extension": ".py",
   "mimetype": "text/x-python",
   "name": "python",
   "nbconvert_exporter": "python",
   "pygments_lexer": "ipython3",
   "version": "3.12.10"
  }
 },
 "nbformat": 4,
 "nbformat_minor": 5
}
