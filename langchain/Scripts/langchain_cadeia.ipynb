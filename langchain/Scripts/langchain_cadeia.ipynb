{
 "cells": [
  {
   "cell_type": "markdown",
   "id": "b7738885",
   "metadata": {},
   "source": [
    "## <a href=\"https://cursos.alura.com.br/course/langchain-python-ferramentas-llm-openai/task/156163\"><b>Implementando uma SimpleSequentialChain para a criação de um roteiro de viagens</b><br/>(Técnica de Engenharia de Prompts Successive Prompts)</a><br/>\n",
    "##### <li> O objetivo será criar uma cadeia de chamadas, cada uma delas representando um prompt</li> "
   ]
  },
  {
   "cell_type": "markdown",
   "id": "46253e49",
   "metadata": {},
   "source": [
    "#### <b>PASSO 1 - CRIANDO O PROMPT TEMPLATE</b> (Pré requisito aula passada) (<a href=\"https://drive.google.com/file/d/1mdX8hLi2KkOaIBMIrB5Y00wKmtbTuwE_/view?usp=sharing\">Pré requisito aula passada</a>)"
   ]
  },
  {
   "cell_type": "code",
   "execution_count": 5,
   "id": "ddc6f24f",
   "metadata": {},
   "outputs": [
    {
     "name": "stdout",
     "output_type": "stream",
     "text": [
      "Crie um roteiro de viagem de 7 dias, para uma família com 2 crianças, que gostam de praia e cite a cidade.\n"
     ]
    }
   ],
   "source": [
    "from langchain_openai import ChatOpenAI # JÁ PEDE A API DE CHAT DIRETO\n",
    "from os import getenv\n",
    "from dotenv import load_dotenv # CARREGA A VARIÁVEL DE AMBIENTE OPENAI_KEY LIDA DO ARQUIVO .env\n",
    "from langchain.prompts import PromptTemplate\n",
    "\n",
    "load_dotenv() # CARREGANDO O ARQUIVO COM A OPENAI_KEY\n",
    "\n",
    "numero_de_dias = 7\n",
    "numero_de_criancas = 2\n",
    "atividade = \"praia\"\n",
    "\n",
    "# PASSO 1 - CRIANDO O TEMPLATE\n",
    "template = \"Crie um roteiro de viagem de {dias} dias, para uma família com {criancas} crianças, que gostam de {atividade} e cite a cidade.\" # TEMPLATE É UM MODELO DE FORMULÁRIO\n",
    "                                                                                                                                            # PERCEBA QUE NÃO ESTÁ COM O f NO INÍCIO, \n",
    "                                                                                                                                            # PARA PEGAR VALORES DE VARIÁVIES\n",
    "# PASSO 2 - INSTANCIANDO E INICIALIZANDO O PROMPT TEMPLATE A PARTIR DO TEMPLATE (from_template)\n",
    "prompt_template = PromptTemplate.from_template(template) # INICIALIZANDO A PARTIR DE UMA STRING, PODE-SE INICIALIZAR A PARTIR DE OUTRAS FORMAS (Ex: Arquivo)\n",
    "\n",
    "# PASSO 3 - FORMATANDO O TEMPLATE\n",
    "# FORMATANDO O prompt_template. PRENCHENDO O MEU FORMULÁRIO\n",
    "prompt_template = prompt_template.format(dias=numero_de_dias, criancas=numero_de_criancas, atividade=atividade)\n",
    "\n",
    "# PROMPT CRIADO\n",
    "prompt = prompt_template\n",
    "\n",
    "print(prompt)"
   ]
  },
  {
   "cell_type": "code",
   "execution_count": 4,
   "id": "2e39a0b2",
   "metadata": {},
   "outputs": [
    {
     "name": "stdout",
     "output_type": "stream",
     "text": [
      "Note: you may need to restart the kernel to use updated packages.\n"
     ]
    }
   ],
   "source": [
    "%pip install -qr requirements.txt"
   ]
  },
  {
   "cell_type": "markdown",
   "id": "9868db52",
   "metadata": {},
   "source": [
    "#### <b>PASSO 2 - CRIANDO O CHAT PROMPT TEMPLATE</b></br>"
   ]
  },
  {
   "cell_type": "markdown",
   "id": "facaf577",
   "metadata": {},
   "source": [
    "<ul><li>Também possui várias formas de inicializar (Métodos from_), assim como o PromptTemplate (<a href=\"https://api.python.langchain.com/en/latest/prompts/langchain_core.prompts.chat.ChatPromptTemplate.html\">Ver na documentação</a>)"
   ]
  },
  {
   "cell_type": "code",
   "execution_count": null,
   "id": "d76c229c",
   "metadata": {},
   "outputs": [
    {
     "name": "stdout",
     "output_type": "stream",
     "text": [
      "Crie um roteiro de viagem de 7 dias, para uma família com 2 crianças, que gostam de praia e cite a cidade.\n"
     ]
    }
   ],
   "source": [
    "from langchain import ChatPromptTemplate # Uma interação de múltiplos prompts, é um chat, por isso, vamos importar um ChatPromptTemplate\n",
    "\n",
    "\n"
   ]
  },
  {
   "cell_type": "markdown",
   "id": "bfa2ca92",
   "metadata": {},
   "source": [
    "#### <b>PASSO 3 - INSTANCIANDO O LLM</b></br>"
   ]
  },
  {
   "cell_type": "code",
   "execution_count": null,
   "id": "c981514a",
   "metadata": {},
   "outputs": [],
   "source": [
    "llm = ChatOpenAI( # INSTANCIANDO A LLM\n",
    "                    model=\"gpt-4.1-mini\",\n",
    "                    temperature=0.5,\n",
    "                    # 1 - OBTENDO A API KEY POR MEIO DA VARIÁVEL DE AMBIENTE OPENAI_KEY. QUE VAI FICAR ARMAZENADA NO ARQUIVO .env.\n",
    "                    # 2 - AINDA É NECESSÁRIO CARREGAR ESSE ARQUIVO. VER NA PRIMEIRA CÉLULA DO NOTEBOOK\n",
    "                    api_key=getenv(\"OPENAI_KEY\")\n",
    "                )"
   ]
  },
  {
   "cell_type": "markdown",
   "id": "a847f1dd",
   "metadata": {},
   "source": [
    "#### <b>PASSO 4 - INVOCANDO</b>"
   ]
  },
  {
   "cell_type": "code",
   "execution_count": 21,
   "id": "b8ac64c5",
   "metadata": {},
   "outputs": [
    {
     "name": "stdout",
     "output_type": "stream",
     "text": [
      "content='Claro! Vou criar um roteiro de 7 dias para uma família com duas crianças que gostam de praia, na cidade de Florianópolis, Santa Catarina, que é conhecida por suas praias lindas e infraestrutura familiar.\\n\\n---\\n\\n### Roteiro de 7 dias em Florianópolis para família com crianças\\n\\n**Dia 1: Chegada e Praia da Joaquina**  \\n- Chegada em Florianópolis e acomodação no hotel ou pousada.  \\n- Tarde na Praia da Joaquina, famosa pelas dunas e ondas, mas também com áreas calmas para as crianças brincarem na areia.  \\n- Aproveite para almoçar em um dos quiosques à beira-mar.  \\n\\n**Dia 2: Praia dos Ingleses**  \\n- Manhã na Praia dos Ingleses, que tem águas calmas e é ótima para crianças.  \\n- Almoço em restaurante familiar na região.  \\n- À tarde, passeio pelo centrinho dos Ingleses para sorvete e compras de artesanato local.  \\n\\n**Dia 3: Projeto Tamar e Praia do Forte**  \\n- Visita ao Projeto Tamar, que fica na Praia do Forte, para conhecer as tartarugas marinhas e aprender sobre a conservação.  \\n- Aproveite a Praia do Forte, que tem águas calmas e é ótima para crianças.  \\n- Jantar em restaurante próximo ao hotel.  \\n\\n**Dia 4: Ilha do Campeche**  \\n- Passeio de barco até a Ilha do Campeche, conhecida por sua água cristalina e trilhas leves.  \\n- Dia de snorkel e exploração da natureza (leve lanches e água).  \\n- Retorno no final da tarde para descanso.  \\n\\n**Dia 5: Praia Mole e Lagoa da Conceição**  \\n- Manhã na Praia Mole, para os pais aproveitarem o visual e as crianças brincarem na areia.  \\n- Almoço na Lagoa da Conceição, com opções variadas de restaurantes.  \\n- Passeio pela Lagoa, com possibilidade de passeio de pedalinho ou caiaque.  \\n\\n**Dia 6: Parque Ecológico do Córrego Grande e Praia do Santinho**  \\n- Visita ao Parque Ecológico do Córrego Grande, com trilhas curtas e contato com a natureza.  \\n- Tarde na Praia do Santinho, que tem infraestrutura e é tranquila para crianças.  \\n- Jantar em restaurante na região.  \\n\\n**Dia 7: Mercado Público e despedida**  \\n- Manhã no Mercado Público de Florianópolis para comprar lembrancinhas e experimentar comidas típicas.  \\n- Almoço em restaurante próximo ao mercado.  \\n- Preparação para o retorno.  \\n\\n---\\n\\nSe desejar, posso ajudar também com sugestões de hospedagem e restaurantes! Quer?' additional_kwargs={'refusal': None} response_metadata={'token_usage': {'completion_tokens': 555, 'prompt_tokens': 35, 'total_tokens': 590, 'completion_tokens_details': {'accepted_prediction_tokens': 0, 'audio_tokens': 0, 'reasoning_tokens': 0, 'rejected_prediction_tokens': 0}, 'prompt_tokens_details': {'audio_tokens': 0, 'cached_tokens': 0}}, 'model_name': 'gpt-4.1-mini-2025-04-14', 'system_fingerprint': 'fp_658b958c37', 'finish_reason': 'stop', 'logprobs': None} id='run--85ea076b-a788-4a9c-9f10-f34853107f76-0' usage_metadata={'input_tokens': 35, 'output_tokens': 555, 'total_tokens': 590, 'input_token_details': {'audio': 0, 'cache_read': 0}, 'output_token_details': {'audio': 0, 'reasoning': 0}}\n"
     ]
    }
   ],
   "source": [
    "# SE EU QUISER UTILIZAR A MINHA LLM, BASTA INVOCAR ALGO NELA\n",
    "resposta = llm.invoke(prompt)\n",
    "print(resposta)"
   ]
  },
  {
   "cell_type": "markdown",
   "id": "a98bd8b1",
   "metadata": {},
   "source": [
    "#### <b>OBTENDO APENAS O CONTEÚDO DA MENSAGEM</b>"
   ]
  },
  {
   "cell_type": "code",
   "execution_count": null,
   "id": "8b472304",
   "metadata": {},
   "outputs": [],
   "source": [
    "print(resposta.content)"
   ]
  }
 ],
 "metadata": {
  "kernelspec": {
   "display_name": "langchain",
   "language": "python",
   "name": "python3"
  },
  "language_info": {
   "codemirror_mode": {
    "name": "ipython",
    "version": 3
   },
   "file_extension": ".py",
   "mimetype": "text/x-python",
   "name": "python",
   "nbconvert_exporter": "python",
   "pygments_lexer": "ipython3",
   "version": "3.12.10"
  }
 },
 "nbformat": 4,
 "nbformat_minor": 5
}
