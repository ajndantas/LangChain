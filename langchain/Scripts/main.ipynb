{
 "cells": [
  {
   "cell_type": "markdown",
   "id": "b7738885",
   "metadata": {},
   "source": [
    "## [Gerando dicas de viagem com a OpenAI e o GPT 3.5](\"https://cursos.alura.com.br/course/langchain-python-ferramentas-llm-openai/task/156160\")<br/>\n",
    "##### <li> O objetivo será criar um cliente, usando a API da OpenAI, e depois usando o LangChain"
   ]
  },
  {
   "cell_type": "markdown",
   "id": "5ab88ca4",
   "metadata": {},
   "source": [
    "### <b>CRIANDO CLIENTE USANDO O LANGCHAIN</b>"
   ]
  },
  {
   "cell_type": "markdown",
   "id": "46253e49",
   "metadata": {},
   "source": [
    "#### <b>PASSO 1 - IMPORTS</b>"
   ]
  },
  {
   "cell_type": "code",
   "execution_count": 1,
   "id": "ddc6f24f",
   "metadata": {},
   "outputs": [
    {
     "ename": "ModuleNotFoundError",
     "evalue": "No module named 'openai'",
     "output_type": "error",
     "traceback": [
      "\u001b[31m---------------------------------------------------------------------------\u001b[39m",
      "\u001b[31mModuleNotFoundError\u001b[39m                       Traceback (most recent call last)",
      "\u001b[36mCell\u001b[39m\u001b[36m \u001b[39m\u001b[32mIn[1]\u001b[39m\u001b[32m, line 1\u001b[39m\n\u001b[32m----> \u001b[39m\u001b[32m1\u001b[39m \u001b[38;5;28;01mfrom\u001b[39;00m\u001b[38;5;250m \u001b[39m\u001b[34;01mopenai\u001b[39;00m\u001b[38;5;250m \u001b[39m\u001b[38;5;28;01mimport\u001b[39;00m OpenAI\n",
      "\u001b[31mModuleNotFoundError\u001b[39m: No module named 'openai'"
     ]
    }
   ],
   "source": [
    "from openai import OpenAI"
   ]
  },
  {
   "cell_type": "code",
   "execution_count": 2,
   "id": "0eeb34a7",
   "metadata": {},
   "outputs": [
    {
     "name": "stdout",
     "output_type": "stream",
     "text": [
      "^C\n",
      "Note: you may need to restart the kernel to use updated packages.\n"
     ]
    }
   ],
   "source": [
    "%pip install -r requirements.txt"
   ]
  },
  {
   "cell_type": "code",
   "execution_count": 5,
   "id": "41322662",
   "metadata": {},
   "outputs": [],
   "source": [
    "numero_de_dias = 7\n",
    "numero_de_criancas = 2\n",
    "atividade = \"praia\""
   ]
  },
  {
   "cell_type": "markdown",
   "id": "9868db52",
   "metadata": {},
   "source": [
    "#### <b>PASSO 2 - CRIANDO O PROMPT</b></br>"
   ]
  },
  {
   "cell_type": "code",
   "execution_count": 6,
   "id": "460061fd",
   "metadata": {},
   "outputs": [
    {
     "name": "stdout",
     "output_type": "stream",
     "text": [
      "Crie um roteiro de viagem de 7 dias, para uma família com 2 crianças, que gostam de praia e cite a cidade.\n"
     ]
    }
   ],
   "source": [
    "prompt = f\"Crie um roteiro de viagem de {numero_de_dias} dias, para uma família com {numero_de_criancas} crianças, que gostam de {atividade} e cite a cidade.\"\n",
    "print(prompt)"
   ]
  },
  {
   "cell_type": "markdown",
   "id": "c5146eca",
   "metadata": {},
   "source": [
    "#### <b>PASSO 3 - INSTANCIANDO O CLIENTE</b></br>"
   ]
  },
  {
   "cell_type": "code",
   "execution_count": null,
   "id": "81eb318d",
   "metadata": {},
   "outputs": [],
   "source": [
    "cliente = OpenAI(api_key=\"\") # CRIANDO O CLIENTE"
   ]
  },
  {
   "cell_type": "markdown",
   "id": "7d5846c0",
   "metadata": {},
   "source": [
    "#### <b>PASSO 4 - USANDO UM CHAT DO NOSSO CLIENTE</b></br>"
   ]
  },
  {
   "cell_type": "code",
   "execution_count": null,
   "id": "c981514a",
   "metadata": {},
   "outputs": [
    {
     "name": "stdout",
     "output_type": "stream",
     "text": [
      "Claro! Vou criar um roteiro de 7 dias para uma família com duas crianças que gostam de praia, na cidade de Florianópolis, Santa Catarina, que é excelente para famílias e tem praias lindas e infraestrutura adequada.\n",
      "\n",
      "---\n",
      "\n",
      "### Roteiro de 7 dias em Florianópolis para família com crianças\n",
      "\n",
      "**Dia 1 – Chegada e Praia da Joaquina**  \n",
      "- Chegada em Florianópolis e acomodação no hotel ou pousada.  \n",
      "- Tarde na Praia da Joaquina, famosa pelas dunas e ondas, mas com áreas calmas para as crianças brincarem na areia.  \n",
      "- Jantar em restaurante familiar próximo à praia.\n",
      "\n",
      "**Dia 2 – Praia dos Ingleses**  \n",
      "- Manhã na Praia dos Ingleses, com águas calmas e infraestrutura de quiosques.  \n",
      "- Almoço em restaurante à beira-mar.  \n",
      "- Tarde livre para descanso ou passeio pelo centrinho dos Ingleses.  \n",
      "- Passeio à noite pelo bairro com sorvete ou lanche.\n",
      "\n",
      "**Dia 3 – Projeto Tamar e Praia do Forte**  \n",
      "- Visita ao Projeto Tamar, que fica na Praia do Forte, para as crianças conhecerem mais sobre tartarugas marinhas.  \n",
      "- Aproveitar a Praia do Forte, que tem águas calmas e é ótima para crianças.  \n",
      "- Almoço em restaurante local.  \n",
      "- Tarde relaxante na praia ou piscina do hotel.\n",
      "\n",
      "**Dia 4 – Lagoa da Conceição e Praia Mole**  \n",
      "- Passeio pela Lagoa da Conceição, com parada para sorvete ou lanche.  \n",
      "- Tarde na Praia Mole, que tem uma paisagem linda e áreas para as crianças brincarem.  \n",
      "- Jantar em restaurante com opções para crianças na região da Lagoa.\n",
      "\n",
      "**Dia 5 – Ilha do Campeche**  \n",
      "- Passeio de barco até a Ilha do Campeche, conhecida por suas águas cristalinas e trilhas fáceis.  \n",
      "- Dia de praia e exploração da ilha (leve lanche, água e protetor solar).  \n",
      "- Retorno no final da tarde.\n",
      "\n",
      "**Dia 6 – Praia de Canasvieiras**  \n",
      "- Dia inteiro na Praia de Canasvieiras, que tem águas calmas, infraestrutura e muitas opções de lazer para crianças.  \n",
      "- Almoço em restaurante familiar.  \n",
      "- Atividades opcionais, como passeio de pedalinho ou caiaque.\n",
      "\n",
      "**Dia 7 – Centro Histórico e despedida**  \n",
      "- Manhã para conhecer o centro histórico de Florianópolis, com visita ao Mercado Público e Praça XV.  \n",
      "- Almoço em restaurante típico.  \n",
      "- Compras de lembrancinhas e retorno.\n",
      "\n",
      "---\n",
      "\n",
      "Se quiser, posso ajudar com sugestões de hospedagem e restaurantes também!\n"
     ]
    }
   ],
   "source": [
    "resposta = cliente.chat.completions.create( # PEDINDO A API DE COMPLETAR, MAS VAMOS CRIAR A NOSSA PRÓPRIA. NÃO ACEITAR A SUGESTÃO DA IA DE ASSISTÊNCIA\n",
    "    model=\"gpt-3.5-turbo\",\n",
    "    messages=[ # ALGUMAS MENSAGENS DESTE CHAT ENTRE O SISTEMA E EU\n",
    "        {\"role\": \"system\", \"content\": \"You are a helpful assistant.\"}, # SYSTEM INSTRUCTIONS\n",
    "        {\"role\": \"user\", \"content\": prompt}\n",
    "    ]\n",
    ")"
   ]
  }
 ],
 "metadata": {
  "kernelspec": {
   "display_name": "langchain",
   "language": "python",
   "name": "python3"
  },
  "language_info": {
   "codemirror_mode": {
    "name": "ipython",
    "version": 3
   },
   "file_extension": ".py",
   "mimetype": "text/x-python",
   "name": "python",
   "nbconvert_exporter": "python",
   "pygments_lexer": "ipython3",
   "version": "3.12.10"
  }
 },
 "nbformat": 4,
 "nbformat_minor": 5
}
