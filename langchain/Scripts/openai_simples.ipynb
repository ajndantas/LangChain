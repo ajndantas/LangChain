{
 "cells": [
  {
   "cell_type": "markdown",
   "id": "b7738885",
   "metadata": {},
   "source": [
    "## [Gerando dicas de viagem com a OpenAI e o GPT 3.5](\"https://cursos.alura.com.br/course/langchain-python-ferramentas-llm-openai/task/156160\")<br/>\n",
    "##### <li> O objetivo será criar um cliente, usando a API da OpenAI, e depois usando o LangChain"
   ]
  },
  {
   "cell_type": "markdown",
   "id": "5ab88ca4",
   "metadata": {},
   "source": [
    "### <b>CRIANDO CLIENTE USANDO A API DA OPENAI</b>"
   ]
  },
  {
   "cell_type": "markdown",
   "id": "46253e49",
   "metadata": {},
   "source": [
    "#### <b>PASSO 1 - IMPORTS</b>"
   ]
  },
  {
   "cell_type": "code",
   "execution_count": 1,
   "id": "ddc6f24f",
   "metadata": {},
   "outputs": [],
   "source": [
    "from openai import OpenAI"
   ]
  },
  {
   "cell_type": "code",
   "execution_count": 2,
   "id": "0eeb34a7",
   "metadata": {},
   "outputs": [
    {
     "name": "stdout",
     "output_type": "stream",
     "text": [
      "^C\n",
      "Note: you may need to restart the kernel to use updated packages.\n"
     ]
    }
   ],
   "source": [
    "%pip install -r requirements.txt"
   ]
  },
  {
   "cell_type": "code",
   "execution_count": 2,
   "id": "41322662",
   "metadata": {},
   "outputs": [],
   "source": [
    "numero_de_dias = 7\n",
    "numero_de_criancas = 2\n",
    "atividade = \"praia\""
   ]
  },
  {
   "cell_type": "markdown",
   "id": "9868db52",
   "metadata": {},
   "source": [
    "#### <b>PASSO 2 - CRIANDO O PROMPT</b></br>"
   ]
  },
  {
   "cell_type": "code",
   "execution_count": 3,
   "id": "460061fd",
   "metadata": {},
   "outputs": [
    {
     "name": "stdout",
     "output_type": "stream",
     "text": [
      "Crie um roteiro de viagem de 7 dias, para uma família com 2 crianças, que gostam de praia e cite a cidade.\n"
     ]
    }
   ],
   "source": [
    "prompt = f\"Crie um roteiro de viagem de {numero_de_dias} dias, para uma família com {numero_de_criancas} crianças, que gostam de {atividade} e cite a cidade.\"\n",
    "print(prompt)"
   ]
  },
  {
   "cell_type": "markdown",
   "id": "c5146eca",
   "metadata": {},
   "source": [
    "#### <b>PASSO 3 - INSTANCIANDO O CLIENTE</b></br>"
   ]
  },
  {
   "cell_type": "code",
   "execution_count": null,
   "id": "81eb318d",
   "metadata": {},
   "outputs": [],
   "source": [
    "cliente = OpenAI(api_key=\"\") # CRIANDO O CLIENTE"
   ]
  },
  {
   "cell_type": "markdown",
   "id": "7d5846c0",
   "metadata": {},
   "source": [
    "#### <b>PASSO 4 - USANDO UM CHAT DO NOSSO CLIENTE</b></br>"
   ]
  },
  {
   "cell_type": "code",
   "execution_count": null,
   "id": "c981514a",
   "metadata": {},
   "outputs": [
    {
     "name": "stdout",
     "output_type": "stream",
     "text": [
      "ChatCompletion(id='chatcmpl-BdM30TT1RMzl0XbV6paDOdaIJGJIa', choices=[Choice(finish_reason='stop', index=0, logprobs=None, message=ChatCompletionMessage(content='Claro! Abaixo está um roteiro de viagem de 7 dias para uma família com 2 crianças que gostam de praia, com base em uma viagem para Fortaleza, no Brasil:\\n\\n**Dia 1: Chegada em Fortaleza**\\n- Chegada ao Aeroporto Internacional de Fortaleza\\n- Check-in no hotel\\n- Relaxe e aproveite a infraestrutura do hotel\\n- Jantar em um restaurante local\\n\\n**Dia 2: Praia de Iracema**\\n- Passeio pela Praia de Iracema, aproveite as piscinas naturais formadas durante a maré baixa\\n- Visita ao Centro Cultural Dragão do Mar\\n- Jantar em um restaurante à beira-mar\\n\\n**Dia 3: Praia do Futuro**\\n- Dia de diversão na Praia do Futuro, conhecida por suas barracas de praia\\n- Aproveite os passeios de jangada e as deliciosas comidas regionais\\n- Retorno ao hotel para descanso\\n\\n**Dia 4: Beach Park**\\n- Passeio ao Beach Park, um famoso parque aquático próximo à Fortaleza\\n- Divirta-se nos tobogãs, piscinas e atrações do parque\\n- Retorno ao hotel e jantar em um restaurante familiar\\n\\n**Dia 5: Cumbuco**\\n- Excursão de um dia à praia de Cumbuco, famosa pelas dunas e prática de kitesurf\\n- Faça um passeio de buggy pelas dunas e desfrute de um passeio de jangada\\n- Jantar em um restaurante típico\\n\\n**Dia 6: Canoa Quebrada**\\n- Viagem a Canoa Quebrada, uma pitoresca vila de pescadores com falésias coloridas\\n- Passeio de jangada, aproveite as falésias e as águas cristalinas\\n- Jantar em um restaurante local com vista para o mar\\n\\n**Dia 7: Último dia em Fortaleza**\\n- Manhã livre para compras de lembranças e relaxamento\\n- Check-out do hotel e traslado para o aeroporto\\n- Retorno para casa com lembranças inesquecíveis da bela cidade de Fortaleza\\n\\nEspero que este roteiro seja útil e que a família desfrute de uma viagem incrível em Fortaleza!', refusal=None, role='assistant', annotations=[], audio=None, function_call=None, tool_calls=None))], created=1748719242, model='gpt-3.5-turbo-0125', object='chat.completion', service_tier='default', system_fingerprint=None, usage=CompletionUsage(completion_tokens=537, prompt_tokens=52, total_tokens=589, completion_tokens_details=CompletionTokensDetails(accepted_prediction_tokens=0, audio_tokens=0, reasoning_tokens=0, rejected_prediction_tokens=0), prompt_tokens_details=PromptTokensDetails(audio_tokens=0, cached_tokens=0)))\n"
     ]
    }
   ],
   "source": [
    "resposta = cliente.chat.completions.create( # PEDINDO A API DE COMPLETAR, MAS VAMOS CRIAR A NOSSA PRÓPRIA. NÃO ACEITAR A SUGESTÃO DA IA DE ASSISTÊNCIA\n",
    "    model=\"gpt-3.5-turbo\",\n",
    "    messages=[ # ALGUMAS MENSAGENS DESTE CHAT ENTRE O SISTEMA E EU. INICIALIZANDO...\n",
    "        {\"role\": \"system\", \"content\": \"You are a helpful assistant.\"}, # SYSTEM INSTRUCTIONS\n",
    "        {\"role\": \"user\", \"content\": prompt}\n",
    "    ]\n",
    ")\n",
    "\n",
    "print(resposta)"
   ]
  },
  {
   "cell_type": "markdown",
   "id": "aaf40696",
   "metadata": {},
   "source": [
    "#### <b>OBTENDO APENAS O CONTEÚDO DA MENSAGEM</b>"
   ]
  },
  {
   "cell_type": "code",
   "execution_count": 10,
   "id": "9f156d7f",
   "metadata": {},
   "outputs": [
    {
     "name": "stdout",
     "output_type": "stream",
     "text": [
      "Claro! Aqui está um roteiro de viagem de 7 dias para uma família com 2 crianças que gostam de praia:\n",
      "\n",
      "**Destino: Florianópolis, Brasil**\n",
      "\n",
      "**Dia 1:** Chegada em Florianópolis e check-in no hotel. Descanse e desfrute de uma refeição em um restaurante local.\n",
      "\n",
      "**Dia 2:** Passe o dia na Praia Mole, onde as crianças podem brincar na areia e nadar nas águas claras. À noite, explore o centro da cidade e experimente a culinária local.\n",
      "\n",
      "**Dia 3:** Faça um passeio de barco até a Ilha do Campeche, onde a família pode fazer trilhas, nadar e relaxar em praias intocadas.\n",
      "\n",
      "**Dia 4:** Visite a Praia da Joaquina, conhecida pelas suas dunas e excelentes condições para a prática de surfe. As crianças vão adorar brincar na areia e explorar as dunas.\n",
      "\n",
      "**Dia 5:** Faça um passeio até a Lagoa da Conceição, onde a família pode alugar caiaques e stand-up paddle para se divertir na água. Passe a tarde explorando as lojas e cafés ao redor da lagoa.\n",
      "\n",
      "**Dia 6:** Aventure-se em um passeio de escuna pela Costa da Lagoa, passando por paisagens deslumbrantes e parando para um banho refrescante.\n",
      "\n",
      "**Dia 7:** Último dia em Florianópolis. Aproveite a manhã na Praia dos Ingleses, antes de fazer o check-out no hotel e se despedir da cidade.\n",
      "\n",
      "Espero que esse roteiro ajude sua família a aproveitar ao máximo sua viagem a Florianópolis!\n"
     ]
    }
   ],
   "source": [
    "print(resposta.choices[0].message.content)"
   ]
  }
 ],
 "metadata": {
  "kernelspec": {
   "display_name": "langchain",
   "language": "python",
   "name": "python3"
  },
  "language_info": {
   "codemirror_mode": {
    "name": "ipython",
    "version": 3
   },
   "file_extension": ".py",
   "mimetype": "text/x-python",
   "name": "python",
   "nbconvert_exporter": "python",
   "pygments_lexer": "ipython3",
   "version": "3.12.10"
  }
 },
 "nbformat": 4,
 "nbformat_minor": 5
}
