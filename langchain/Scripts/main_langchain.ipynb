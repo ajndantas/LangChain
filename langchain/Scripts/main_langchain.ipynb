{
 "cells": [
  {
   "cell_type": "markdown",
   "id": "b7738885",
   "metadata": {},
   "source": [
    "## [Gerando dicas de viagem com a OpenAI e o GPT 3.5 - parte 2](\"https://cursos.alura.com.br/course/langchain-python-ferramentas-llm-openai/task/156160\")<br/>\n",
    "##### <li> O objetivo será criar um cliente, agora usando o LangChain"
   ]
  },
  {
   "cell_type": "markdown",
   "id": "5ab88ca4",
   "metadata": {},
   "source": [
    "### <b>CRIANDO CLIENTE USANDO O LANGCHAIN</b>"
   ]
  },
  {
   "cell_type": "markdown",
   "id": "46253e49",
   "metadata": {},
   "source": [
    "#### <b>PASSO 1 - IMPORTS</b>"
   ]
  },
  {
   "cell_type": "code",
   "execution_count": 4,
   "id": "ddc6f24f",
   "metadata": {},
   "outputs": [
    {
     "data": {
      "text/plain": [
       "True"
      ]
     },
     "execution_count": 4,
     "metadata": {},
     "output_type": "execute_result"
    }
   ],
   "source": [
    "from langchain_openai import ChatOpenAI # JÁ PEDE A API DE CHAT DIRETO\n",
    "from os import getenv\n",
    "from dotenv import load_dotenv # CARREGA A VARIÁVEL DE AMBIENTE OPENAI_KEY LIDA DO ARQUIVO .env\n",
    "\n",
    "load_dotenv() # CARREGANDO O ARQUIVO COM A OPENAI_KEY"
   ]
  },
  {
   "cell_type": "code",
   "execution_count": 5,
   "id": "41322662",
   "metadata": {},
   "outputs": [],
   "source": [
    "numero_de_dias = 7\n",
    "numero_de_criancas = 2\n",
    "atividade = \"praia\""
   ]
  },
  {
   "cell_type": "markdown",
   "id": "9868db52",
   "metadata": {},
   "source": [
    "#### PASSO 2 - CRIANDO O PROMPT</b></br>\n",
    "##### <li> Sem prompt template</b>"
   ]
  },
  {
   "cell_type": "code",
   "execution_count": 6,
   "id": "460061fd",
   "metadata": {},
   "outputs": [
    {
     "name": "stdout",
     "output_type": "stream",
     "text": [
      "Crie um roteiro de viagem de 7 dias, para uma família com 2 crianças, que gostam de praia e cite a cidade.\n"
     ]
    }
   ],
   "source": [
    "prompt = f\"Crie um roteiro de viagem de {numero_de_dias} dias, para uma família com {numero_de_criancas} crianças, que gostam de {atividade} e cite a cidade.\"\n",
    "print(prompt)"
   ]
  },
  {
   "cell_type": "markdown",
   "id": "080ac604",
   "metadata": {},
   "source": [
    "##### [<li>Com prompt template</li></b>](\"https://cursos.alura.com.br/course/langchain-python-ferramentas-llm-openai/task/156162\")\n",
    "<ul><li>As vantagens do uso de prompt templates são:</li></ul>\n",
    "<ul><ul><li>Padronização: Garante consistência na forma como as instruções são passadas ao modelo.</li></ul></ul>\n",
    "<ul><ul><li>Eficiência: Evita retrabalho ao reutilizar estruturas prontas para diferentes entradas.</ul></ul></li>\n",
    "<ul><ul><li>Escalabilidade: Facilita a automação e aplicação em larga escala (ex.: via scripts ou APIs).</ul></ul></li>\n",
    "<ul><ul><li>Qualidade: Aumenta a chance de obter respostas mais precisas e relevantes, ao estruturar melhor o contexto.</ul></ul></li>\n",
    "<ul><ul><li>Facilidade de teste e ajuste: Permite comparar variações sistemáticas do prompt para otimização.</ul></ul></li></br>\n",
    "\n",
    "<ul><li>Esses templates são especialmente úteis em aplicações como chatbots, geração de conteúdo e classificação de dados.</li></ul>"
   ]
  },
  {
   "cell_type": "code",
   "execution_count": null,
   "id": "d76c229c",
   "metadata": {},
   "outputs": [],
   "source": [
    "\n",
    "from langchain.prompt import PromptTemplate\n",
    "prompt = PromptTemplate(\n"
   ]
  },
  {
   "cell_type": "markdown",
   "id": "bfa2ca92",
   "metadata": {},
   "source": [
    "#### <b>PASSO 3 - INSTANCIANDO O LLM</b></br>\n",
    "#### <b>PASSO 4 - INVOCANDO</b>"
   ]
  },
  {
   "cell_type": "code",
   "execution_count": 7,
   "id": "c981514a",
   "metadata": {},
   "outputs": [
    {
     "name": "stdout",
     "output_type": "stream",
     "text": [
      "Claro! Vou criar um roteiro de 7 dias para uma família com duas crianças que gostam de praia, na cidade de Florianópolis, Santa Catarina, que é excelente para famílias e tem praias lindas e infraestrutura adequada.\n",
      "\n",
      "---\n",
      "\n",
      "### Roteiro de 7 dias em Florianópolis para família com crianças\n",
      "\n",
      "**Dia 1 – Chegada e Praia da Joaquina**  \n",
      "- Chegada em Florianópolis e acomodação no hotel ou pousada.  \n",
      "- Tarde na Praia da Joaquina, famosa pelas dunas e ondas, mas com áreas calmas para as crianças brincarem na areia.  \n",
      "- Jantar em restaurante familiar próximo à praia.\n",
      "\n",
      "**Dia 2 – Praia dos Ingleses**  \n",
      "- Manhã na Praia dos Ingleses, com águas calmas e infraestrutura de quiosques.  \n",
      "- Almoço em restaurante à beira-mar.  \n",
      "- Tarde livre para descanso ou passeio pelo centrinho dos Ingleses.  \n",
      "- Passeio à noite pelo bairro com sorvete ou lanche.\n",
      "\n",
      "**Dia 3 – Projeto Tamar e Praia do Forte**  \n",
      "- Visita ao Projeto Tamar, que fica na Praia do Forte, para as crianças conhecerem mais sobre tartarugas marinhas.  \n",
      "- Aproveitar a Praia do Forte, que tem águas calmas e é ótima para crianças.  \n",
      "- Almoço em restaurante local.  \n",
      "- Tarde relaxante na praia ou piscina do hotel.\n",
      "\n",
      "**Dia 4 – Lagoa da Conceição e Praia Mole**  \n",
      "- Passeio pela Lagoa da Conceição, com parada para sorvete ou lanche.  \n",
      "- Tarde na Praia Mole, que tem uma paisagem linda e áreas para as crianças brincarem.  \n",
      "- Jantar em restaurante com opções para crianças na região da Lagoa.\n",
      "\n",
      "**Dia 5 – Ilha do Campeche**  \n",
      "- Passeio de barco até a Ilha do Campeche, conhecida por suas águas cristalinas e trilhas fáceis.  \n",
      "- Dia de praia e exploração da ilha (leve lanche, água e protetor solar).  \n",
      "- Retorno no final da tarde.\n",
      "\n",
      "**Dia 6 – Praia de Canasvieiras**  \n",
      "- Dia inteiro na Praia de Canasvieiras, que tem águas calmas, infraestrutura e muitas opções de lazer para crianças.  \n",
      "- Almoço em restaurante familiar.  \n",
      "- Atividades opcionais, como passeio de pedalinho ou caiaque.\n",
      "\n",
      "**Dia 7 – Centro Histórico e despedida**  \n",
      "- Manhã para conhecer o centro histórico de Florianópolis, com visita ao Mercado Público e Praça XV.  \n",
      "- Almoço em restaurante típico.  \n",
      "- Compras de lembrancinhas e retorno.\n",
      "\n",
      "---\n",
      "\n",
      "Se quiser, posso ajudar com sugestões de hospedagem e restaurantes também!\n"
     ]
    }
   ],
   "source": [
    "llm = ChatOpenAI( # INSTANCIANDO A LLM\n",
    "                    model=\"gpt-4.1-mini\",\n",
    "                    temperature=0.5,\n",
    "                    # 1 - OBTENDO A API KEY POR MEIO DA VARIÁVEL DE AMBIENTE OPENAI_KEY. QUE VAI FICAR ARMAZENADA NO ARQUIVO .env.\n",
    "                    # 2 - AINDA É NECESSÁRIO CARREGAR ESSE ARQUIVO.\n",
    "                    api_key=getenv(\"OPENAI_KEY\")\n",
    "                )\n",
    "\n",
    "# SE EU QUISER UTILIZAR A MINHA LLM, BASTA INVOCAR ALGO NELA\n",
    "resposta = llm.invoke(prompt)\n",
    "print(resposta.content)"
   ]
  },
  {
   "cell_type": "markdown",
   "id": "46a5eb63",
   "metadata": {},
   "source": [
    "<b>IMPLEMENTAÇÃO MAIS LIMPA DO QUE USANDO A API</b>"
   ]
  }
 ],
 "metadata": {
  "kernelspec": {
   "display_name": "Langchain",
   "language": "python",
   "name": "python3"
  },
  "language_info": {
   "codemirror_mode": {
    "name": "ipython",
    "version": 3
   },
   "file_extension": ".py",
   "mimetype": "text/x-python",
   "name": "python",
   "nbconvert_exporter": "python",
   "pygments_lexer": "ipython3",
   "version": "3.12.10"
  }
 },
 "nbformat": 4,
 "nbformat_minor": 5
}
