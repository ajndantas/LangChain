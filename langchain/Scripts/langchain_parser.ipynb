{
 "cells": [
  {
   "cell_type": "markdown",
   "id": "b7738885",
   "metadata": {},
   "source": [
    "## <a href=\"https://cursos.alura.com.br/course/langchain-python-ferramentas-llm-openai/task/156164\"><b>Formatando a saída de uma cadeia com o JSONOutputParser</b></a><br/>\n",
    "Dar restart no kernel para limpar a memória. Não esquecer de liberar o scroll na última célula, para ver a saída completa."
   ]
  },
  {
   "cell_type": "markdown",
   "id": "274ba327",
   "metadata": {},
   "source": [
    "O objetivo é obter apenas a informação que desejo, e nenhum \"lixo\" a mais da IA"
   ]
  },
  {
   "cell_type": "code",
   "execution_count": 64,
   "id": "f79ff682",
   "metadata": {},
   "outputs": [],
   "source": [
    "from langchain.prompts import ChatPromptTemplate # Uma interação de múltiplos prompts é um chat, por isso, vamos importar um ChatPromptTemplate"
   ]
  },
  {
   "cell_type": "code",
   "execution_count": 65,
   "id": "a0cbabaf",
   "metadata": {},
   "outputs": [
    {
     "name": "stdout",
     "output_type": "stream",
     "text": [
      "Note: you may need to restart the kernel to use updated packages.\n"
     ]
    }
   ],
   "source": [
    "%pip install -qr requirements.txt"
   ]
  },
  {
   "cell_type": "markdown",
   "id": "d562675e",
   "metadata": {},
   "source": [
    "#### <b>PASSO 1 - IMPORTS e CRIAÇÃO DA LLM</b>"
   ]
  },
  {
   "cell_type": "code",
   "execution_count": 66,
   "id": "e2e38951",
   "metadata": {},
   "outputs": [],
   "source": [
    "from langchain_openai import ChatOpenAI\n",
    "from os import getenv\n",
    "from dotenv import load_dotenv # CARREGA A VARIÁVEL DE AMBIENTE OPENAI_KEY LIDA DO ARQUIVO .env\n",
    "\n",
    "load_dotenv() # CARREGANDO O ARQUIVO COM A OPENAI_KEY\n",
    "\n",
    "llm = ChatOpenAI( # INSTANCIANDO A LLM\n",
    "                    model=\"gpt-4.1-mini\",\n",
    "                    temperature=0.5,\n",
    "                    # 1 - OBTENDO A API KEY POR MEIO DA VARIÁVEL DE AMBIENTE OPENAI_KEY. QUE VAI FICAR ARMAZENADA NO ARQUIVO .env.\n",
    "                    # 2 - AINDA É NECESSÁRIO CARREGAR ESSE ARQUIVO. VER NA PRIMEIRA CÉLULA DO NOTEBOOK\n",
    "                    api_key=getenv(\"OPENAI_KEY\")\n",
    "                )"
   ]
  },
  {
   "cell_type": "markdown",
   "id": "9868db52",
   "metadata": {},
   "source": [
    "#### <b>PASSO 2 - CRIANDO O <i>PROMPT TEMPLATE</i> E ASSOCIANDO UM PARSER A ELE</b></br> "
   ]
  },
  {
   "cell_type": "markdown",
   "id": "b786694b",
   "metadata": {},
   "source": [
    "<b><ol><li>CRIANDO OS MODELOS</li></ol></b>"
   ]
  },
  {
   "cell_type": "markdown",
   "id": "e9523861",
   "metadata": {},
   "source": [
    "<ul><ul><li><b>CRIANDO O MODELO PARA A CIDADE</b></li></ul></ul>"
   ]
  },
  {
   "cell_type": "code",
   "execution_count": 67,
   "id": "fe2cb903",
   "metadata": {},
   "outputs": [],
   "source": [
    "# ANTES\n",
    "template_cidade = ChatPromptTemplate.from_template(\"Sugira uma cidade, dado o meu interesse por {interesse}\") # INSTANCIANDO ChatPromptTemplate e INICIANDO A PARTIR DE UM TEMPLATE"
   ]
  },
  {
   "cell_type": "markdown",
   "id": "6656417a",
   "metadata": {},
   "source": [
    "<ul><ul><li><b>CRIANDO O PARSER E ASSOCIANDO ELE AO MODELO DE CIDADE</b></li></ul></ul>"
   ]
  },
  {
   "cell_type": "markdown",
   "id": "c7251740",
   "metadata": {},
   "source": [
    "<ul><ul><ul><li><b>Quero obter apenas o nome da cidade e o motivo, nenhuma outra informação a mais. Necessário trabalhar a saida.</b></li></ul></ul></ul>"
   ]
  },
  {
   "cell_type": "markdown",
   "id": "bdd7bafe",
   "metadata": {},
   "source": [
    "<ul><ul><ul><ul><li><b>PASSO 1 - Criar uma classe minha com os campos que preciso. Descreve o formato da saída</b></li></ul></ul></ul></ul>"
   ]
  },
  {
   "cell_type": "code",
   "execution_count": 68,
   "id": "3e31fff5",
   "metadata": {},
   "outputs": [],
   "source": [
    "from pydantic import Field,BaseModel # pydantic -> Biblioteca para validação de dados. Garante que os dados recebidos ou manipulados estejam no formato correto,\n",
    "                                     # BaseModel -> Os modelos pydantic são classes que herdam BaseModel (https://docs-pydantic-dev.translate.goog/latest/concepts/models/?_x_tr_sl=en&_x_tr_tl=pt&_x_tr_hl=pt&_x_tr_pto=tc)\n",
    "                                     # Modelos possuem campos como atributos.\n",
    "                                     \n",
    "                                     # Field -> Para personalizar os campos do modelo (https://docs-pydantic-dev.translate.goog/latest/concepts/fields/?_x_tr_sl=en&_x_tr_tl=pt&_x_tr_hl=pt&_x_tr_pto=tc)\n",
    "\n",
    "class Destino(BaseModel): # A nossa classe vai estender a classe BaseModel, que terá dois campos a cidade e o motivo de visitá-la\n",
    "    cidade: str = Field(description=\"cidade a visitar\") # Descrição do campo. Apenas informativo\n",
    "    motivo: str = Field(description=\"motivo pelo qual é interessante visitar\") # Descrição do campo. Apenas informativo  "
   ]
  },
  {
   "cell_type": "markdown",
   "id": "de6cae00",
   "metadata": {},
   "source": [
    "<ul><ul><ul><ul><li><b>PASSO 2 - Criando o parser e associando ele ao template. Dessa vez um PromptTemplate e não um ChatPromptTemplate</b></li></ul></ul></ul></ul>\n",
    "<ul><ul><ul><ul><ul><li>VARÍAVEL PARCIAL É O SHOT DA ENGENHARIA DE PROMPT</li></ul></ul></ul></ul></ul>\n",
    "\n"
   ]
  },
  {
   "cell_type": "code",
   "execution_count": 69,
   "id": "90f4a663",
   "metadata": {},
   "outputs": [],
   "source": [
    "# DEPOIS\n",
    "from langchain import PromptTemplate\n",
    "from langchain_core.output_parsers import JsonOutputParser # EXISTEM DIVERSOS OUTPUT PARSERS (https://python.langchain.com/docs/concepts/output_parsers/)\n",
    "\n",
    "parseador = JsonOutputParser(pydantic_object=Destino) # DOCUMENTAÇÃO JsonOutputParser (https://python.langchain.com/docs/how_to/output_parser_json)\n",
    "\n",
    "template_cidade = PromptTemplate(\n",
    "                                    template=\"\"\"Sugira uma cidade, dado o meu interesse por {interesse}.\n",
    "                                    {formatacao_de_saida_da_ia}\"\"\", # AQUI TEMOS UMA VARÍAVEL PARCIAL. UTLIZAÇÃO DA TÉCNICA DE SHOTS PARA PROMPTS\n",
    "                                    input_variables=[\"interesse\"],\n",
    "                                    # A VARÍAVEL PARCIAL É UM DICIONÁRIO. FUNCIONA COMO O SHOT\n",
    "                                    partial_variables={\"formatacao_de_saida_da_ia\":parseador.get_format_instructions()}, # PASSANDO O PARSEADOR PARA A VARIÁVEL FORMATAÇÃO DE SAÍDA.\n",
    "                                                                                                   \n",
    "                                ) # INSTANCIANDO PromptTemplate e INICIANDO A PARTIR DE UM TEMPLATE\n"
   ]
  },
  {
   "cell_type": "markdown",
   "id": "374a55f6",
   "metadata": {},
   "source": [
    "<b>DETALHES SOBRE A DOCUMENTAÇÃO</b></br></br>\n",
    "Ele coloca a tipagem do Field como string (opcional no nosso caso) e faz outras coisas. Ao rolar a página para baixo, veremos que existem outros OutputParsers de saída, como os de XML, de CSV, de data, que retornam uma opção entre 5, que retornam um output estruturado em chave-valor, e assim por diante.\n",
    "\n",
    "Também podemos criar nosso próprio OutputParser, que vai dar as instruões e devolver no formato que quisermos utilizar. Contudo, não há garantia que ele vai funcionar sempre, assim como ele não garante nada na saída."
   ]
  },
  {
   "cell_type": "markdown",
   "id": "e5f3aa8f",
   "metadata": {},
   "source": [
    "<ul><ul><li><b>CRIANDO O MODELO PARA RESTAURANTES</b></li></ul></ul>"
   ]
  },
  {
   "cell_type": "code",
   "execution_count": 70,
   "id": "9b4341a0",
   "metadata": {},
   "outputs": [],
   "source": [
    "template_restaurante = ChatPromptTemplate.from_template(\"Sugira restaurantes populares entre locais na {cidade}\") # INSTANCIANDO ChatPromptTemplate e INICIANDO A PARTIR DE UM TEMPLATE"
   ]
  },
  {
   "cell_type": "markdown",
   "id": "5fa64bdb",
   "metadata": {},
   "source": [
    "<ul><ul><li><b>CRIANDO O MODELO CULTURAL</b></li></ul></ul>"
   ]
  },
  {
   "cell_type": "code",
   "execution_count": 71,
   "id": "69f74086",
   "metadata": {},
   "outputs": [],
   "source": [
    "template_cultural = ChatPromptTemplate.from_template(\"Sugira atividades e locais culturais em {cidade}\") # INSTANCIANDO ChatPromptTemplate e INICIANDO A PARTIR DE UM TEMPLATE"
   ]
  },
  {
   "cell_type": "markdown",
   "id": "c0851fe2",
   "metadata": {},
   "source": [
    "#### <b>PASSO 3 - CRIANDO AS CADEIAS</b></br> "
   ]
  },
  {
   "cell_type": "code",
   "execution_count": 72,
   "id": "abb11744",
   "metadata": {},
   "outputs": [],
   "source": [
    "from langchain.chains import LLMChain\n",
    "\n",
    "cadeia_cidade = LLMChain(llm=llm,prompt=template_cidade)\n",
    "cadeia_restaurante = LLMChain(llm=llm,prompt=template_restaurante)\n",
    "cadeia_cultural = LLMChain(llm=llm,prompt=template_cultural)"
   ]
  },
  {
   "cell_type": "markdown",
   "id": "a5f2c37e",
   "metadata": {},
   "source": [
    "<b><ul><li>CRIANDO A CADEIA GERAL (SimpleSequentialChain)</li></ul></b>"
   ]
  },
  {
   "cell_type": "code",
   "execution_count": 73,
   "id": "a8614511",
   "metadata": {},
   "outputs": [],
   "source": [
    "from langchain.chains import SimpleSequentialChain\n",
    "\n",
    "cadeia = SimpleSequentialChain(chains=[cadeia_cidade,cadeia_restaurante,cadeia_cultural])\n"
   ]
  },
  {
   "cell_type": "markdown",
   "id": "a847f1dd",
   "metadata": {},
   "source": [
    "#### <b>PASSO 4 - INVOCANDO A CADEIA GERAL</b>"
   ]
  },
  {
   "cell_type": "code",
   "execution_count": 76,
   "id": "b8ac64c5",
   "metadata": {},
   "outputs": [
    {
     "name": "stdout",
     "output_type": "stream",
     "text": [
      "\u001b[32;1m\u001b[1;3m[chain/start]\u001b[0m \u001b[1m[chain:SimpleSequentialChain] Entering Chain run with input:\n",
      "\u001b[0m{\n",
      "  \"input\": \"praias\"\n",
      "}\n",
      "\u001b[32;1m\u001b[1;3m[chain/start]\u001b[0m \u001b[1m[chain:SimpleSequentialChain > chain:LLMChain] Entering Chain run with input:\n",
      "\u001b[0m{\n",
      "  \"interesse\": \"praias\"\n",
      "}\n",
      "\u001b[32;1m\u001b[1;3m[llm/start]\u001b[0m \u001b[1m[chain:SimpleSequentialChain > chain:LLMChain > llm:ChatOpenAI] Entering LLM run with input:\n",
      "\u001b[0m{\n",
      "  \"prompts\": [\n",
      "    \"Human: Sugira uma cidade, dado o meu interesse por praias.\\n                                    The output should be formatted as a JSON instance that conforms to the JSON schema below.\\n\\nAs an example, for the schema {\\\"properties\\\": {\\\"foo\\\": {\\\"title\\\": \\\"Foo\\\", \\\"description\\\": \\\"a list of strings\\\", \\\"type\\\": \\\"array\\\", \\\"items\\\": {\\\"type\\\": \\\"string\\\"}}}, \\\"required\\\": [\\\"foo\\\"]}\\nthe object {\\\"foo\\\": [\\\"bar\\\", \\\"baz\\\"]} is a well-formatted instance of the schema. The object {\\\"properties\\\": {\\\"foo\\\": [\\\"bar\\\", \\\"baz\\\"]}} is not well-formatted.\\n\\nHere is the output schema:\\n```\\n{\\\"properties\\\": {\\\"cidade\\\": {\\\"description\\\": \\\"cidade a visitar\\\", \\\"title\\\": \\\"Cidade\\\", \\\"type\\\": \\\"string\\\"}, \\\"motivo\\\": {\\\"description\\\": \\\"motivo pelo qual é interessante visitar\\\", \\\"title\\\": \\\"Motivo\\\", \\\"type\\\": \\\"string\\\"}}, \\\"required\\\": [\\\"cidade\\\", \\\"motivo\\\"]}\\n```\"\n",
      "  ]\n",
      "}\n",
      "\u001b[36;1m\u001b[1;3m[llm/end]\u001b[0m \u001b[1m[chain:SimpleSequentialChain > chain:LLMChain > llm:ChatOpenAI] [1.87s] Exiting LLM run with output:\n",
      "\u001b[0m{\n",
      "  \"generations\": [\n",
      "    [\n",
      "      {\n",
      "        \"generation_info\": {\n",
      "          \"finish_reason\": \"stop\",\n",
      "          \"logprobs\": null\n",
      "        },\n",
      "        \"type\": \"ChatGeneration\",\n",
      "        \"message\": {\n",
      "          \"lc\": 1,\n",
      "          \"type\": \"constructor\",\n",
      "          \"id\": [\n",
      "            \"langchain\",\n",
      "            \"schema\",\n",
      "            \"messages\",\n",
      "            \"AIMessage\"\n",
      "          ],\n",
      "          \"kwargs\": {\n",
      "            \"content\": \"{\\n  \\\"cidade\\\": \\\"Florianópolis\\\",\\n  \\\"motivo\\\": \\\"Florianópolis é conhecida por suas praias deslumbrantes, com opções para todos os gostos, desde praias tranquilas até pontos para surf, além de uma natureza exuberante e ótima infraestrutura turística.\\\"\\n}\",\n",
      "            \"additional_kwargs\": {\n",
      "              \"refusal\": null\n",
      "            },\n",
      "            \"response_metadata\": {\n",
      "              \"token_usage\": {\n",
      "                \"completion_tokens\": 57,\n",
      "                \"prompt_tokens\": 205,\n",
      "                \"total_tokens\": 262,\n",
      "                \"completion_tokens_details\": {\n",
      "                  \"accepted_prediction_tokens\": 0,\n",
      "                  \"audio_tokens\": 0,\n",
      "                  \"reasoning_tokens\": 0,\n",
      "                  \"rejected_prediction_tokens\": 0\n",
      "                },\n",
      "                \"prompt_tokens_details\": {\n",
      "                  \"audio_tokens\": 0,\n",
      "                  \"cached_tokens\": 0\n",
      "                }\n",
      "              },\n",
      "              \"model_name\": \"gpt-4.1-mini-2025-04-14\",\n",
      "              \"system_fingerprint\": \"fp_6f2eabb9a5\",\n",
      "              \"finish_reason\": \"stop\",\n",
      "              \"logprobs\": null\n",
      "            },\n",
      "            \"type\": \"ai\",\n",
      "            \"id\": \"run--ab50ddca-ad97-4f48-a29e-bd6ea0d7789b-0\",\n",
      "            \"usage_metadata\": {\n",
      "              \"input_tokens\": 205,\n",
      "              \"output_tokens\": 57,\n",
      "              \"total_tokens\": 262,\n",
      "              \"input_token_details\": {\n",
      "                \"audio\": 0,\n",
      "                \"cache_read\": 0\n",
      "              },\n",
      "              \"output_token_details\": {\n",
      "                \"audio\": 0,\n",
      "                \"reasoning\": 0\n",
      "              }\n",
      "            },\n",
      "            \"tool_calls\": [],\n",
      "            \"invalid_tool_calls\": []\n",
      "          }\n",
      "        },\n",
      "        \"text\": \"{\\n  \\\"cidade\\\": \\\"Florianópolis\\\",\\n  \\\"motivo\\\": \\\"Florianópolis é conhecida por suas praias deslumbrantes, com opções para todos os gostos, desde praias tranquilas até pontos para surf, além de uma natureza exuberante e ótima infraestrutura turística.\\\"\\n}\"\n",
      "      }\n",
      "    ]\n",
      "  ],\n",
      "  \"llm_output\": {\n",
      "    \"token_usage\": {\n",
      "      \"completion_tokens\": 57,\n",
      "      \"prompt_tokens\": 205,\n",
      "      \"total_tokens\": 262,\n",
      "      \"completion_tokens_details\": {\n",
      "        \"accepted_prediction_tokens\": 0,\n",
      "        \"audio_tokens\": 0,\n",
      "        \"reasoning_tokens\": 0,\n",
      "        \"rejected_prediction_tokens\": 0\n",
      "      },\n",
      "      \"prompt_tokens_details\": {\n",
      "        \"audio_tokens\": 0,\n",
      "        \"cached_tokens\": 0\n",
      "      }\n",
      "    },\n",
      "    \"model_name\": \"gpt-4.1-mini-2025-04-14\",\n",
      "    \"system_fingerprint\": \"fp_6f2eabb9a5\"\n",
      "  },\n",
      "  \"run\": null,\n",
      "  \"type\": \"LLMResult\"\n",
      "}\n",
      "\u001b[36;1m\u001b[1;3m[chain/end]\u001b[0m \u001b[1m[chain:SimpleSequentialChain > chain:LLMChain] [1.87s] Exiting Chain run with output:\n",
      "\u001b[0m{\n",
      "  \"text\": \"{\\n  \\\"cidade\\\": \\\"Florianópolis\\\",\\n  \\\"motivo\\\": \\\"Florianópolis é conhecida por suas praias deslumbrantes, com opções para todos os gostos, desde praias tranquilas até pontos para surf, além de uma natureza exuberante e ótima infraestrutura turística.\\\"\\n}\"\n",
      "}\n",
      "\u001b[32;1m\u001b[1;3m[chain/start]\u001b[0m \u001b[1m[chain:SimpleSequentialChain > chain:LLMChain] Entering Chain run with input:\n",
      "\u001b[0m{\n",
      "  \"cidade\": \"{\\n  \\\"cidade\\\": \\\"Florianópolis\\\",\\n  \\\"motivo\\\": \\\"Florianópolis é conhecida por suas praias deslumbrantes, com opções para todos os gostos, desde praias tranquilas até pontos para surf, além de uma natureza exuberante e ótima infraestrutura turística.\\\"\\n}\"\n",
      "}\n",
      "\u001b[32;1m\u001b[1;3m[llm/start]\u001b[0m \u001b[1m[chain:SimpleSequentialChain > chain:LLMChain > llm:ChatOpenAI] Entering LLM run with input:\n",
      "\u001b[0m{\n",
      "  \"prompts\": [\n",
      "    \"Human: Sugira restaurantes populares entre locais na {\\n  \\\"cidade\\\": \\\"Florianópolis\\\",\\n  \\\"motivo\\\": \\\"Florianópolis é conhecida por suas praias deslumbrantes, com opções para todos os gostos, desde praias tranquilas até pontos para surf, além de uma natureza exuberante e ótima infraestrutura turística.\\\"\\n}\"\n",
      "  ]\n",
      "}\n",
      "\u001b[36;1m\u001b[1;3m[llm/end]\u001b[0m \u001b[1m[chain:SimpleSequentialChain > chain:LLMChain > llm:ChatOpenAI] [6.79s] Exiting LLM run with output:\n",
      "\u001b[0m{\n",
      "  \"generations\": [\n",
      "    [\n",
      "      {\n",
      "        \"generation_info\": {\n",
      "          \"finish_reason\": \"stop\",\n",
      "          \"logprobs\": null\n",
      "        },\n",
      "        \"type\": \"ChatGeneration\",\n",
      "        \"message\": {\n",
      "          \"lc\": 1,\n",
      "          \"type\": \"constructor\",\n",
      "          \"id\": [\n",
      "            \"langchain\",\n",
      "            \"schema\",\n",
      "            \"messages\",\n",
      "            \"AIMessage\"\n",
      "          ],\n",
      "          \"kwargs\": {\n",
      "            \"content\": \"Claro! Florianópolis é um destino incrível, e a gastronomia local reflete a diversidade e a riqueza da região. Aqui estão algumas sugestões de restaurantes populares entre os moradores locais, que oferecem ótimas experiências gastronômicas e valorizam os ingredientes da região:\\n\\n1. **Ostradamus**  \\n   - Especialidade: Frutos do mar, especialmente ostras frescas.  \\n   - Destaque: Ambiente rústico e aconchegante na Lagoa da Conceição, com pratos que valorizam os frutos do mar da região.\\n\\n2. **Bar do Arante**  \\n   - Especialidade: Comida caseira e frutos do mar.  \\n   - Destaque: Localizado na Praia do Pântano do Sul, é um clássico para quem quer experimentar pratos típicos em um ambiente simples e autêntico.\\n\\n3. **Restaurante Rancho Açoriano**  \\n   - Especialidade: Comida típica açoriana e frutos do mar.  \\n   - Destaque: Ambiente familiar, com pratos tradicionais que remetem à cultura dos colonizadores açorianos.\\n\\n4. **Box 32**  \\n   - Especialidade: Peixes e frutos do mar frescos.  \\n   - Destaque: Localizado no Mercado Público de Florianópolis, é um ponto tradicional para quem quer provar a culinária local com rapidez e qualidade.\\n\\n5. **Ponto Gula**  \\n   - Especialidade: Cozinha contemporânea com ingredientes locais.  \\n   - Destaque: Ambiente moderno e cardápio que mistura tradição e inovação, valorizando produtos da região.\\n\\n6. **Café Cultura**  \\n   - Especialidade: Cafés especiais, brunch e lanches.  \\n   - Destaque: Ótimo para um café da manhã ou lanche durante o dia, com ambiente agradável e opções variadas.\\n\\nEsses lugares são bastante apreciados pelos moradores e proporcionam uma experiência autêntica da culinária e do estilo de vida de Florianópolis. Se quiser, posso ajudar com mais opções específicas, como restaurantes para jantar romântico, opções vegetarianas ou locais com vista para o mar!\",\n",
      "            \"additional_kwargs\": {\n",
      "              \"refusal\": null\n",
      "            },\n",
      "            \"response_metadata\": {\n",
      "              \"token_usage\": {\n",
      "                \"completion_tokens\": 428,\n",
      "                \"prompt_tokens\": 71,\n",
      "                \"total_tokens\": 499,\n",
      "                \"completion_tokens_details\": {\n",
      "                  \"accepted_prediction_tokens\": 0,\n",
      "                  \"audio_tokens\": 0,\n",
      "                  \"reasoning_tokens\": 0,\n",
      "                  \"rejected_prediction_tokens\": 0\n",
      "                },\n",
      "                \"prompt_tokens_details\": {\n",
      "                  \"audio_tokens\": 0,\n",
      "                  \"cached_tokens\": 0\n",
      "                }\n",
      "              },\n",
      "              \"model_name\": \"gpt-4.1-mini-2025-04-14\",\n",
      "              \"system_fingerprint\": \"fp_6f2eabb9a5\",\n",
      "              \"finish_reason\": \"stop\",\n",
      "              \"logprobs\": null\n",
      "            },\n",
      "            \"type\": \"ai\",\n",
      "            \"id\": \"run--313d9717-843f-49ce-b6a4-9ace53abeb6f-0\",\n",
      "            \"usage_metadata\": {\n",
      "              \"input_tokens\": 71,\n",
      "              \"output_tokens\": 428,\n",
      "              \"total_tokens\": 499,\n",
      "              \"input_token_details\": {\n",
      "                \"audio\": 0,\n",
      "                \"cache_read\": 0\n",
      "              },\n",
      "              \"output_token_details\": {\n",
      "                \"audio\": 0,\n",
      "                \"reasoning\": 0\n",
      "              }\n",
      "            },\n",
      "            \"tool_calls\": [],\n",
      "            \"invalid_tool_calls\": []\n",
      "          }\n",
      "        },\n",
      "        \"text\": \"Claro! Florianópolis é um destino incrível, e a gastronomia local reflete a diversidade e a riqueza da região. Aqui estão algumas sugestões de restaurantes populares entre os moradores locais, que oferecem ótimas experiências gastronômicas e valorizam os ingredientes da região:\\n\\n1. **Ostradamus**  \\n   - Especialidade: Frutos do mar, especialmente ostras frescas.  \\n   - Destaque: Ambiente rústico e aconchegante na Lagoa da Conceição, com pratos que valorizam os frutos do mar da região.\\n\\n2. **Bar do Arante**  \\n   - Especialidade: Comida caseira e frutos do mar.  \\n   - Destaque: Localizado na Praia do Pântano do Sul, é um clássico para quem quer experimentar pratos típicos em um ambiente simples e autêntico.\\n\\n3. **Restaurante Rancho Açoriano**  \\n   - Especialidade: Comida típica açoriana e frutos do mar.  \\n   - Destaque: Ambiente familiar, com pratos tradicionais que remetem à cultura dos colonizadores açorianos.\\n\\n4. **Box 32**  \\n   - Especialidade: Peixes e frutos do mar frescos.  \\n   - Destaque: Localizado no Mercado Público de Florianópolis, é um ponto tradicional para quem quer provar a culinária local com rapidez e qualidade.\\n\\n5. **Ponto Gula**  \\n   - Especialidade: Cozinha contemporânea com ingredientes locais.  \\n   - Destaque: Ambiente moderno e cardápio que mistura tradição e inovação, valorizando produtos da região.\\n\\n6. **Café Cultura**  \\n   - Especialidade: Cafés especiais, brunch e lanches.  \\n   - Destaque: Ótimo para um café da manhã ou lanche durante o dia, com ambiente agradável e opções variadas.\\n\\nEsses lugares são bastante apreciados pelos moradores e proporcionam uma experiência autêntica da culinária e do estilo de vida de Florianópolis. Se quiser, posso ajudar com mais opções específicas, como restaurantes para jantar romântico, opções vegetarianas ou locais com vista para o mar!\"\n",
      "      }\n",
      "    ]\n",
      "  ],\n",
      "  \"llm_output\": {\n",
      "    \"token_usage\": {\n",
      "      \"completion_tokens\": 428,\n",
      "      \"prompt_tokens\": 71,\n",
      "      \"total_tokens\": 499,\n",
      "      \"completion_tokens_details\": {\n",
      "        \"accepted_prediction_tokens\": 0,\n",
      "        \"audio_tokens\": 0,\n",
      "        \"reasoning_tokens\": 0,\n",
      "        \"rejected_prediction_tokens\": 0\n",
      "      },\n",
      "      \"prompt_tokens_details\": {\n",
      "        \"audio_tokens\": 0,\n",
      "        \"cached_tokens\": 0\n",
      "      }\n",
      "    },\n",
      "    \"model_name\": \"gpt-4.1-mini-2025-04-14\",\n",
      "    \"system_fingerprint\": \"fp_6f2eabb9a5\"\n",
      "  },\n",
      "  \"run\": null,\n",
      "  \"type\": \"LLMResult\"\n",
      "}\n",
      "\u001b[36;1m\u001b[1;3m[chain/end]\u001b[0m \u001b[1m[chain:SimpleSequentialChain > chain:LLMChain] [6.79s] Exiting Chain run with output:\n",
      "\u001b[0m{\n",
      "  \"text\": \"Claro! Florianópolis é um destino incrível, e a gastronomia local reflete a diversidade e a riqueza da região. Aqui estão algumas sugestões de restaurantes populares entre os moradores locais, que oferecem ótimas experiências gastronômicas e valorizam os ingredientes da região:\\n\\n1. **Ostradamus**  \\n   - Especialidade: Frutos do mar, especialmente ostras frescas.  \\n   - Destaque: Ambiente rústico e aconchegante na Lagoa da Conceição, com pratos que valorizam os frutos do mar da região.\\n\\n2. **Bar do Arante**  \\n   - Especialidade: Comida caseira e frutos do mar.  \\n   - Destaque: Localizado na Praia do Pântano do Sul, é um clássico para quem quer experimentar pratos típicos em um ambiente simples e autêntico.\\n\\n3. **Restaurante Rancho Açoriano**  \\n   - Especialidade: Comida típica açoriana e frutos do mar.  \\n   - Destaque: Ambiente familiar, com pratos tradicionais que remetem à cultura dos colonizadores açorianos.\\n\\n4. **Box 32**  \\n   - Especialidade: Peixes e frutos do mar frescos.  \\n   - Destaque: Localizado no Mercado Público de Florianópolis, é um ponto tradicional para quem quer provar a culinária local com rapidez e qualidade.\\n\\n5. **Ponto Gula**  \\n   - Especialidade: Cozinha contemporânea com ingredientes locais.  \\n   - Destaque: Ambiente moderno e cardápio que mistura tradição e inovação, valorizando produtos da região.\\n\\n6. **Café Cultura**  \\n   - Especialidade: Cafés especiais, brunch e lanches.  \\n   - Destaque: Ótimo para um café da manhã ou lanche durante o dia, com ambiente agradável e opções variadas.\\n\\nEsses lugares são bastante apreciados pelos moradores e proporcionam uma experiência autêntica da culinária e do estilo de vida de Florianópolis. Se quiser, posso ajudar com mais opções específicas, como restaurantes para jantar romântico, opções vegetarianas ou locais com vista para o mar!\"\n",
      "}\n",
      "\u001b[32;1m\u001b[1;3m[chain/start]\u001b[0m \u001b[1m[chain:SimpleSequentialChain > chain:LLMChain] Entering Chain run with input:\n",
      "\u001b[0m{\n",
      "  \"cidade\": \"Claro! Florianópolis é um destino incrível, e a gastronomia local reflete a diversidade e a riqueza da região. Aqui estão algumas sugestões de restaurantes populares entre os moradores locais, que oferecem ótimas experiências gastronômicas e valorizam os ingredientes da região:\\n\\n1. **Ostradamus**  \\n   - Especialidade: Frutos do mar, especialmente ostras frescas.  \\n   - Destaque: Ambiente rústico e aconchegante na Lagoa da Conceição, com pratos que valorizam os frutos do mar da região.\\n\\n2. **Bar do Arante**  \\n   - Especialidade: Comida caseira e frutos do mar.  \\n   - Destaque: Localizado na Praia do Pântano do Sul, é um clássico para quem quer experimentar pratos típicos em um ambiente simples e autêntico.\\n\\n3. **Restaurante Rancho Açoriano**  \\n   - Especialidade: Comida típica açoriana e frutos do mar.  \\n   - Destaque: Ambiente familiar, com pratos tradicionais que remetem à cultura dos colonizadores açorianos.\\n\\n4. **Box 32**  \\n   - Especialidade: Peixes e frutos do mar frescos.  \\n   - Destaque: Localizado no Mercado Público de Florianópolis, é um ponto tradicional para quem quer provar a culinária local com rapidez e qualidade.\\n\\n5. **Ponto Gula**  \\n   - Especialidade: Cozinha contemporânea com ingredientes locais.  \\n   - Destaque: Ambiente moderno e cardápio que mistura tradição e inovação, valorizando produtos da região.\\n\\n6. **Café Cultura**  \\n   - Especialidade: Cafés especiais, brunch e lanches.  \\n   - Destaque: Ótimo para um café da manhã ou lanche durante o dia, com ambiente agradável e opções variadas.\\n\\nEsses lugares são bastante apreciados pelos moradores e proporcionam uma experiência autêntica da culinária e do estilo de vida de Florianópolis. Se quiser, posso ajudar com mais opções específicas, como restaurantes para jantar romântico, opções vegetarianas ou locais com vista para o mar!\"\n",
      "}\n",
      "\u001b[32;1m\u001b[1;3m[llm/start]\u001b[0m \u001b[1m[chain:SimpleSequentialChain > chain:LLMChain > llm:ChatOpenAI] Entering LLM run with input:\n",
      "\u001b[0m{\n",
      "  \"prompts\": [\n",
      "    \"Human: Sugira atividades e locais culturais em Claro! Florianópolis é um destino incrível, e a gastronomia local reflete a diversidade e a riqueza da região. Aqui estão algumas sugestões de restaurantes populares entre os moradores locais, que oferecem ótimas experiências gastronômicas e valorizam os ingredientes da região:\\n\\n1. **Ostradamus**  \\n   - Especialidade: Frutos do mar, especialmente ostras frescas.  \\n   - Destaque: Ambiente rústico e aconchegante na Lagoa da Conceição, com pratos que valorizam os frutos do mar da região.\\n\\n2. **Bar do Arante**  \\n   - Especialidade: Comida caseira e frutos do mar.  \\n   - Destaque: Localizado na Praia do Pântano do Sul, é um clássico para quem quer experimentar pratos típicos em um ambiente simples e autêntico.\\n\\n3. **Restaurante Rancho Açoriano**  \\n   - Especialidade: Comida típica açoriana e frutos do mar.  \\n   - Destaque: Ambiente familiar, com pratos tradicionais que remetem à cultura dos colonizadores açorianos.\\n\\n4. **Box 32**  \\n   - Especialidade: Peixes e frutos do mar frescos.  \\n   - Destaque: Localizado no Mercado Público de Florianópolis, é um ponto tradicional para quem quer provar a culinária local com rapidez e qualidade.\\n\\n5. **Ponto Gula**  \\n   - Especialidade: Cozinha contemporânea com ingredientes locais.  \\n   - Destaque: Ambiente moderno e cardápio que mistura tradição e inovação, valorizando produtos da região.\\n\\n6. **Café Cultura**  \\n   - Especialidade: Cafés especiais, brunch e lanches.  \\n   - Destaque: Ótimo para um café da manhã ou lanche durante o dia, com ambiente agradável e opções variadas.\\n\\nEsses lugares são bastante apreciados pelos moradores e proporcionam uma experiência autêntica da culinária e do estilo de vida de Florianópolis. Se quiser, posso ajudar com mais opções específicas, como restaurantes para jantar romântico, opções vegetarianas ou locais com vista para o mar!\"\n",
      "  ]\n",
      "}\n",
      "\u001b[36;1m\u001b[1;3m[llm/end]\u001b[0m \u001b[1m[chain:SimpleSequentialChain > chain:LLMChain > llm:ChatOpenAI] [8.91s] Exiting LLM run with output:\n",
      "\u001b[0m{\n",
      "  \"generations\": [\n",
      "    [\n",
      "      {\n",
      "        \"generation_info\": {\n",
      "          \"finish_reason\": \"stop\",\n",
      "          \"logprobs\": null\n",
      "        },\n",
      "        \"type\": \"ChatGeneration\",\n",
      "        \"message\": {\n",
      "          \"lc\": 1,\n",
      "          \"type\": \"constructor\",\n",
      "          \"id\": [\n",
      "            \"langchain\",\n",
      "            \"schema\",\n",
      "            \"messages\",\n",
      "            \"AIMessage\"\n",
      "          ],\n",
      "          \"kwargs\": {\n",
      "            \"content\": \"Claro! Além das ótimas opções gastronômicas que você já listou, Florianópolis oferece diversas atividades e locais culturais que enriquecem a experiência na cidade. Aqui vão algumas sugestões para você aproveitar o melhor da cultura local:\\n\\n### Atividades e Locais Culturais em Florianópolis\\n\\n1. **Centro Histórico de Florianópolis**  \\n   - Explore as ruas do centro, com construções coloniais e museus, como o **Museu Histórico de Santa Catarina** e o **Palácio Cruz e Sousa**.  \\n   - Não deixe de visitar a **Catedral Metropolitana** e o **Mercado Público**, onde você pode combinar cultura e gastronomia local.\\n\\n2. **Projeto Tamar – Praia da Barra da Lagoa**  \\n   - Um centro de conservação de tartarugas marinhas, com exposições educativas e atividades para todas as idades.  \\n   - Uma ótima oportunidade para aprender sobre a fauna marinha da região.\\n\\n3. **Museu do Sambaqui**  \\n   - Localizado na Lagoa da Conceição, apresenta a história dos primeiros habitantes da ilha, os sambaquieiros, com artefatos arqueológicos e exposições interativas.\\n\\n4. **Casa da Alfândega**  \\n   - Um espaço cultural no centro histórico, onde ocorrem exposições de arte, feiras de artesanato e eventos culturais.  \\n   - Fica ao lado do Mercado Público, facilitando um passeio completo.\\n\\n5. **Feira de Artesanato da Lagoa da Conceição**  \\n   - Realizada nos finais de semana, é um ótimo lugar para conhecer e comprar peças feitas por artesãos locais, além de curtir música ao vivo e comidas típicas.\\n\\n6. **Teatro Álvaro de Carvalho (TAC)**  \\n   - Um dos principais teatros da cidade, com programação variada de peças, shows e eventos culturais.  \\n   - Vale a pena conferir a agenda para assistir a uma apresentação durante sua visita.\\n\\n7. **Trilhas Culturais e Históricas**  \\n   - A região oferece diversas trilhas que passam por sítios arqueológicos, vilas de pescadores e mirantes com vistas incríveis, como a trilha para a **Lagoa do Peri** e a trilha do **Morro da Lagoa**.\\n\\n### Dica Extra:  \\nSe você gosta de eventos culturais, confira a programação do **Festival de Dança de Florianópolis** (geralmente em agosto) e do **Floripa Jazz Festival**, que acontecem anualmente e são muito prestigiados.\\n\\n---\\n\\nSe quiser, posso ajudar a montar um roteiro cultural personalizado ou sugerir atividades para um perfil específico, como famílias, casais ou grupos de amigos!\",\n",
      "            \"additional_kwargs\": {\n",
      "              \"refusal\": null\n",
      "            },\n",
      "            \"response_metadata\": {\n",
      "              \"token_usage\": {\n",
      "                \"completion_tokens\": 551,\n",
      "                \"prompt_tokens\": 442,\n",
      "                \"total_tokens\": 993,\n",
      "                \"completion_tokens_details\": {\n",
      "                  \"accepted_prediction_tokens\": 0,\n",
      "                  \"audio_tokens\": 0,\n",
      "                  \"reasoning_tokens\": 0,\n",
      "                  \"rejected_prediction_tokens\": 0\n",
      "                },\n",
      "                \"prompt_tokens_details\": {\n",
      "                  \"audio_tokens\": 0,\n",
      "                  \"cached_tokens\": 0\n",
      "                }\n",
      "              },\n",
      "              \"model_name\": \"gpt-4.1-mini-2025-04-14\",\n",
      "              \"system_fingerprint\": \"fp_6f2eabb9a5\",\n",
      "              \"finish_reason\": \"stop\",\n",
      "              \"logprobs\": null\n",
      "            },\n",
      "            \"type\": \"ai\",\n",
      "            \"id\": \"run--14e3a7a1-d2b3-4fcf-990a-96664d0ecf4c-0\",\n",
      "            \"usage_metadata\": {\n",
      "              \"input_tokens\": 442,\n",
      "              \"output_tokens\": 551,\n",
      "              \"total_tokens\": 993,\n",
      "              \"input_token_details\": {\n",
      "                \"audio\": 0,\n",
      "                \"cache_read\": 0\n",
      "              },\n",
      "              \"output_token_details\": {\n",
      "                \"audio\": 0,\n",
      "                \"reasoning\": 0\n",
      "              }\n",
      "            },\n",
      "            \"tool_calls\": [],\n",
      "            \"invalid_tool_calls\": []\n",
      "          }\n",
      "        },\n",
      "        \"text\": \"Claro! Além das ótimas opções gastronômicas que você já listou, Florianópolis oferece diversas atividades e locais culturais que enriquecem a experiência na cidade. Aqui vão algumas sugestões para você aproveitar o melhor da cultura local:\\n\\n### Atividades e Locais Culturais em Florianópolis\\n\\n1. **Centro Histórico de Florianópolis**  \\n   - Explore as ruas do centro, com construções coloniais e museus, como o **Museu Histórico de Santa Catarina** e o **Palácio Cruz e Sousa**.  \\n   - Não deixe de visitar a **Catedral Metropolitana** e o **Mercado Público**, onde você pode combinar cultura e gastronomia local.\\n\\n2. **Projeto Tamar – Praia da Barra da Lagoa**  \\n   - Um centro de conservação de tartarugas marinhas, com exposições educativas e atividades para todas as idades.  \\n   - Uma ótima oportunidade para aprender sobre a fauna marinha da região.\\n\\n3. **Museu do Sambaqui**  \\n   - Localizado na Lagoa da Conceição, apresenta a história dos primeiros habitantes da ilha, os sambaquieiros, com artefatos arqueológicos e exposições interativas.\\n\\n4. **Casa da Alfândega**  \\n   - Um espaço cultural no centro histórico, onde ocorrem exposições de arte, feiras de artesanato e eventos culturais.  \\n   - Fica ao lado do Mercado Público, facilitando um passeio completo.\\n\\n5. **Feira de Artesanato da Lagoa da Conceição**  \\n   - Realizada nos finais de semana, é um ótimo lugar para conhecer e comprar peças feitas por artesãos locais, além de curtir música ao vivo e comidas típicas.\\n\\n6. **Teatro Álvaro de Carvalho (TAC)**  \\n   - Um dos principais teatros da cidade, com programação variada de peças, shows e eventos culturais.  \\n   - Vale a pena conferir a agenda para assistir a uma apresentação durante sua visita.\\n\\n7. **Trilhas Culturais e Históricas**  \\n   - A região oferece diversas trilhas que passam por sítios arqueológicos, vilas de pescadores e mirantes com vistas incríveis, como a trilha para a **Lagoa do Peri** e a trilha do **Morro da Lagoa**.\\n\\n### Dica Extra:  \\nSe você gosta de eventos culturais, confira a programação do **Festival de Dança de Florianópolis** (geralmente em agosto) e do **Floripa Jazz Festival**, que acontecem anualmente e são muito prestigiados.\\n\\n---\\n\\nSe quiser, posso ajudar a montar um roteiro cultural personalizado ou sugerir atividades para um perfil específico, como famílias, casais ou grupos de amigos!\"\n",
      "      }\n",
      "    ]\n",
      "  ],\n",
      "  \"llm_output\": {\n",
      "    \"token_usage\": {\n",
      "      \"completion_tokens\": 551,\n",
      "      \"prompt_tokens\": 442,\n",
      "      \"total_tokens\": 993,\n",
      "      \"completion_tokens_details\": {\n",
      "        \"accepted_prediction_tokens\": 0,\n",
      "        \"audio_tokens\": 0,\n",
      "        \"reasoning_tokens\": 0,\n",
      "        \"rejected_prediction_tokens\": 0\n",
      "      },\n",
      "      \"prompt_tokens_details\": {\n",
      "        \"audio_tokens\": 0,\n",
      "        \"cached_tokens\": 0\n",
      "      }\n",
      "    },\n",
      "    \"model_name\": \"gpt-4.1-mini-2025-04-14\",\n",
      "    \"system_fingerprint\": \"fp_6f2eabb9a5\"\n",
      "  },\n",
      "  \"run\": null,\n",
      "  \"type\": \"LLMResult\"\n",
      "}\n",
      "\u001b[36;1m\u001b[1;3m[chain/end]\u001b[0m \u001b[1m[chain:SimpleSequentialChain > chain:LLMChain] [8.92s] Exiting Chain run with output:\n",
      "\u001b[0m{\n",
      "  \"text\": \"Claro! Além das ótimas opções gastronômicas que você já listou, Florianópolis oferece diversas atividades e locais culturais que enriquecem a experiência na cidade. Aqui vão algumas sugestões para você aproveitar o melhor da cultura local:\\n\\n### Atividades e Locais Culturais em Florianópolis\\n\\n1. **Centro Histórico de Florianópolis**  \\n   - Explore as ruas do centro, com construções coloniais e museus, como o **Museu Histórico de Santa Catarina** e o **Palácio Cruz e Sousa**.  \\n   - Não deixe de visitar a **Catedral Metropolitana** e o **Mercado Público**, onde você pode combinar cultura e gastronomia local.\\n\\n2. **Projeto Tamar – Praia da Barra da Lagoa**  \\n   - Um centro de conservação de tartarugas marinhas, com exposições educativas e atividades para todas as idades.  \\n   - Uma ótima oportunidade para aprender sobre a fauna marinha da região.\\n\\n3. **Museu do Sambaqui**  \\n   - Localizado na Lagoa da Conceição, apresenta a história dos primeiros habitantes da ilha, os sambaquieiros, com artefatos arqueológicos e exposições interativas.\\n\\n4. **Casa da Alfândega**  \\n   - Um espaço cultural no centro histórico, onde ocorrem exposições de arte, feiras de artesanato e eventos culturais.  \\n   - Fica ao lado do Mercado Público, facilitando um passeio completo.\\n\\n5. **Feira de Artesanato da Lagoa da Conceição**  \\n   - Realizada nos finais de semana, é um ótimo lugar para conhecer e comprar peças feitas por artesãos locais, além de curtir música ao vivo e comidas típicas.\\n\\n6. **Teatro Álvaro de Carvalho (TAC)**  \\n   - Um dos principais teatros da cidade, com programação variada de peças, shows e eventos culturais.  \\n   - Vale a pena conferir a agenda para assistir a uma apresentação durante sua visita.\\n\\n7. **Trilhas Culturais e Históricas**  \\n   - A região oferece diversas trilhas que passam por sítios arqueológicos, vilas de pescadores e mirantes com vistas incríveis, como a trilha para a **Lagoa do Peri** e a trilha do **Morro da Lagoa**.\\n\\n### Dica Extra:  \\nSe você gosta de eventos culturais, confira a programação do **Festival de Dança de Florianópolis** (geralmente em agosto) e do **Floripa Jazz Festival**, que acontecem anualmente e são muito prestigiados.\\n\\n---\\n\\nSe quiser, posso ajudar a montar um roteiro cultural personalizado ou sugerir atividades para um perfil específico, como famílias, casais ou grupos de amigos!\"\n",
      "}\n",
      "\u001b[36;1m\u001b[1;3m[chain/end]\u001b[0m \u001b[1m[chain:SimpleSequentialChain] [17.58s] Exiting Chain run with output:\n",
      "\u001b[0m{\n",
      "  \"output\": \"Claro! Além das ótimas opções gastronômicas que você já listou, Florianópolis oferece diversas atividades e locais culturais que enriquecem a experiência na cidade. Aqui vão algumas sugestões para você aproveitar o melhor da cultura local:\\n\\n### Atividades e Locais Culturais em Florianópolis\\n\\n1. **Centro Histórico de Florianópolis**  \\n   - Explore as ruas do centro, com construções coloniais e museus, como o **Museu Histórico de Santa Catarina** e o **Palácio Cruz e Sousa**.  \\n   - Não deixe de visitar a **Catedral Metropolitana** e o **Mercado Público**, onde você pode combinar cultura e gastronomia local.\\n\\n2. **Projeto Tamar – Praia da Barra da Lagoa**  \\n   - Um centro de conservação de tartarugas marinhas, com exposições educativas e atividades para todas as idades.  \\n   - Uma ótima oportunidade para aprender sobre a fauna marinha da região.\\n\\n3. **Museu do Sambaqui**  \\n   - Localizado na Lagoa da Conceição, apresenta a história dos primeiros habitantes da ilha, os sambaquieiros, com artefatos arqueológicos e exposições interativas.\\n\\n4. **Casa da Alfândega**  \\n   - Um espaço cultural no centro histórico, onde ocorrem exposições de arte, feiras de artesanato e eventos culturais.  \\n   - Fica ao lado do Mercado Público, facilitando um passeio completo.\\n\\n5. **Feira de Artesanato da Lagoa da Conceição**  \\n   - Realizada nos finais de semana, é um ótimo lugar para conhecer e comprar peças feitas por artesãos locais, além de curtir música ao vivo e comidas típicas.\\n\\n6. **Teatro Álvaro de Carvalho (TAC)**  \\n   - Um dos principais teatros da cidade, com programação variada de peças, shows e eventos culturais.  \\n   - Vale a pena conferir a agenda para assistir a uma apresentação durante sua visita.\\n\\n7. **Trilhas Culturais e Históricas**  \\n   - A região oferece diversas trilhas que passam por sítios arqueológicos, vilas de pescadores e mirantes com vistas incríveis, como a trilha para a **Lagoa do Peri** e a trilha do **Morro da Lagoa**.\\n\\n### Dica Extra:  \\nSe você gosta de eventos culturais, confira a programação do **Festival de Dança de Florianópolis** (geralmente em agosto) e do **Floripa Jazz Festival**, que acontecem anualmente e são muito prestigiados.\\n\\n---\\n\\nSe quiser, posso ajudar a montar um roteiro cultural personalizado ou sugerir atividades para um perfil específico, como famílias, casais ou grupos de amigos!\"\n",
      "}\n",
      "{'input': 'praias', 'output': 'Claro! Além das ótimas opções gastronômicas que você já listou, Florianópolis oferece diversas atividades e locais culturais que enriquecem a experiência na cidade. Aqui vão algumas sugestões para você aproveitar o melhor da cultura local:\\n\\n### Atividades e Locais Culturais em Florianópolis\\n\\n1. **Centro Histórico de Florianópolis**  \\n   - Explore as ruas do centro, com construções coloniais e museus, como o **Museu Histórico de Santa Catarina** e o **Palácio Cruz e Sousa**.  \\n   - Não deixe de visitar a **Catedral Metropolitana** e o **Mercado Público**, onde você pode combinar cultura e gastronomia local.\\n\\n2. **Projeto Tamar – Praia da Barra da Lagoa**  \\n   - Um centro de conservação de tartarugas marinhas, com exposições educativas e atividades para todas as idades.  \\n   - Uma ótima oportunidade para aprender sobre a fauna marinha da região.\\n\\n3. **Museu do Sambaqui**  \\n   - Localizado na Lagoa da Conceição, apresenta a história dos primeiros habitantes da ilha, os sambaquieiros, com artefatos arqueológicos e exposições interativas.\\n\\n4. **Casa da Alfândega**  \\n   - Um espaço cultural no centro histórico, onde ocorrem exposições de arte, feiras de artesanato e eventos culturais.  \\n   - Fica ao lado do Mercado Público, facilitando um passeio completo.\\n\\n5. **Feira de Artesanato da Lagoa da Conceição**  \\n   - Realizada nos finais de semana, é um ótimo lugar para conhecer e comprar peças feitas por artesãos locais, além de curtir música ao vivo e comidas típicas.\\n\\n6. **Teatro Álvaro de Carvalho (TAC)**  \\n   - Um dos principais teatros da cidade, com programação variada de peças, shows e eventos culturais.  \\n   - Vale a pena conferir a agenda para assistir a uma apresentação durante sua visita.\\n\\n7. **Trilhas Culturais e Históricas**  \\n   - A região oferece diversas trilhas que passam por sítios arqueológicos, vilas de pescadores e mirantes com vistas incríveis, como a trilha para a **Lagoa do Peri** e a trilha do **Morro da Lagoa**.\\n\\n### Dica Extra:  \\nSe você gosta de eventos culturais, confira a programação do **Festival de Dança de Florianópolis** (geralmente em agosto) e do **Floripa Jazz Festival**, que acontecem anualmente e são muito prestigiados.\\n\\n---\\n\\nSe quiser, posso ajudar a montar um roteiro cultural personalizado ou sugerir atividades para um perfil específico, como famílias, casais ou grupos de amigos!'}\n"
     ]
    }
   ],
   "source": [
    "resposta = cadeia.invoke(\"praias\") # DIFERENTE DO QUE ACONTECEU COM O PROMPT TEMPLATE, AQUI INVOCAMOS A CADEIA, E COMTÉM UM TEMPLATE, E ELA INVOCA A LLM\n",
    "print(resposta)"
   ]
  },
  {
   "cell_type": "markdown",
   "id": "a98bd8b1",
   "metadata": {},
   "source": [
    "#### <b>OBTENDO APENAS O CONTEÚDO DA MENSAGEM</b>"
   ]
  },
  {
   "cell_type": "code",
   "execution_count": null,
   "id": "8b472304",
   "metadata": {},
   "outputs": [],
   "source": [
    "print(resposta['output'])"
   ]
  },
  {
   "cell_type": "markdown",
   "id": "3f0351ab",
   "metadata": {},
   "source": [
    "<ul><li><b>USANDO O MODO DEBUG</b></li></ul>"
   ]
  },
  {
   "cell_type": "code",
   "execution_count": null,
   "id": "6ffac78e",
   "metadata": {},
   "outputs": [],
   "source": [
    "from langchain.globals import set_debug\n",
    "set_debug(True)\n",
    "\n",
    "resposta = cadeia.invoke(input=\"praias\")\n",
    "print(resposta)"
   ]
  },
  {
   "cell_type": "markdown",
   "id": "c3175d67",
   "metadata": {},
   "source": [
    "<b>RESULTADO DOS PROMPTS</b>"
   ]
  },
  {
   "cell_type": "markdown",
   "id": "6f49722a",
   "metadata": {},
   "source": [
    "\"prompts\": [\n",
    "    \"Human: Sugira uma cidade, dado o meu interesse por praias.\\n                                    The output should be formatted as a JSON instance that conforms to the JSON schema below.\\n\\nAs an example, for the schema {\\\"properties\\\": {\\\"foo\\\": {\\\"title\\\": \\\"Foo\\\", \\\"description\\\": \\\"a list of strings\\\", \\\"type\\\": \\\"array\\\", \\\"items\\\": {\\\"type\\\": \\\"string\\\"}}}, \\\"required\\\": [\\\"foo\\\"]}\\nthe object {\\\"foo\\\": [\\\"bar\\\", \\\"baz\\\"]} is a well-formatted instance of the schema. The object {\\\"properties\\\": {\\\"foo\\\": [\\\"bar\\\", \\\"baz\\\"]}} is not well-formatted.\\n\\nHere is the output schema:\\n```\\n{\\\"properties\\\": {\\\"cidade\\\": {\\\"description\\\": \\\"cidade a visitar\\\", \\\"title\\\": \\\"Cidade\\\", \\\"type\\\": \\\"string\\\"}, \\\"motivo\\\": {\\\"description\\\": \\\"motivo pelo qual é interessante visitar\\\", \\\"title\\\": \\\"Motivo\\\", \\\"type\\\": \\\"string\\\"}}, \\\"required\\\": [\\\"cidade\\\", \\\"motivo\\\"]}\\n```\"\n",
    "  ]"
   ]
  },
  {
   "cell_type": "markdown",
   "id": "6db7c448",
   "metadata": {},
   "source": [
    "[<font style=\"color: orange\">llm/start</font>] [chain:SimpleSequentialChain > chain:LLMChain > llm:ChatOpenAI] Entering LLM run with input:</br>\n",
    "{</br>\n",
    "  <ul>\"prompts\": [</br>\n",
    "    <ul><ul>\"Human: Sugira restaurantes populares entre locais na ```json\\n{\\n  \\\"cidade\\\": \\\"Florianópolis\\\",\\n  \\\"motivo\\\": \\\"Possui diversas praias paradisíacas, com águas claras e ótima infraestrutura para turistas.\\\"\\n}\\n```\"</ul></ul>\n",
    "  ]</ul>\n",
    "}</br>\n",
    "[<font style=\"color: orange\">llm/end</font>] [chain:SimpleSequentialChain > chain:LLMChain > llm:ChatOpenAI] [5.86s] Exiting LLM run with output:\n"
   ]
  },
  {
   "cell_type": "markdown",
   "id": "435e270a",
   "metadata": {},
   "source": [
    "\"prompts\": [\n",
    "    \"Human: Sugira atividades e locais culturais em ```json\\n{\\n  \\\"cidade\\\": \\\"Florianópolis\\\",\\n  \\\"motivo\\\": \\\"Possui diversas praias paradisíacas, com águas claras e ótima infraestrutura para turistas.\\\",\\n  \\\"restaurantes_populares_entre_locais\\\": [\\n    {\\n      \\\"nome\\\": \\\"Ostradamus\\\",\\n      \\\"descricao\\\": \\\"Restaurante tradicional especializado em frutos do mar, famoso pela qualidade das ostras e pratos frescos.\\\",\\n      \\\"localizacao\\\": \\\"Praia de Ribeirão da Ilha\\\"\\n    },\\n    {\\n      \\\"nome\\\": \\\"Bar do Boni\\\",\\n      \\\"descricao\\\": \\\"Bar e restaurante com ambiente descontraído, conhecido pelos petiscos e pratos típicos catarinenses.\\\",\\n      \\\"localizacao\\\": \\\"Centro de Florianópolis\\\"\\n    },\\n    {\\n      \\\"nome\\\": \\\"Box 32\\\",\\n      \\\"descricao\\\": \\\"Restaurante na Beira-Mar Norte, muito apreciado por moradores locais pela variedade de frutos do mar e ambiente agradável.\\\",\\n      \\\"localizacao\\\": \\\"Beira-Mar Norte\\\"\\n    },\\n    {\\n      \\\"nome\\\": \\\"Restaurante Ponta das Caranhas\\\",\\n      \\\"descricao\\\": \\\"Especializado em frutos do mar, com vista privilegiada para o mar e ambiente rústico chique.\\\",\\n      \\\"localizacao\\\": \\\"Ponta das Caranhas\\\"\\n    },\\n    {\\n      \\\"nome\\\": \\\"Cantina Sangiovese\\\",\\n      \\\"descricao\\\": \\\"Cantina italiana tradicional, muito frequentada por locais que apreciam massas artesanais e vinhos selecionados.\\\",\\n      \\\"localizacao\\\": \\\"Lagoa da Conceição\\\"\\n    }\\n  ]\\n}\\n```\"\n",
    "  ]"
   ]
  },
  {
   "cell_type": "markdown",
   "id": "95236f3f",
   "metadata": {},
   "source": [
    "#### <b>DatetimeOutputParser</b></br>\n",
    "O DatetimeOutputParser é outro exemplo útil para transformar texto em dados de data e hora. No entanto, desafios podem surgir se o formato de data e hora esperado não for diretamente suportado pelo parser."
   ]
  },
  {
   "cell_type": "code",
   "execution_count": null,
   "id": "9b981e18",
   "metadata": {},
   "outputs": [],
   "source": [
    "from langchain.output_parsers import DatetimeOutputParser\n",
    "from langchain.prompts import PromptTemplate\n",
    "from langchain_openai import ChatOpenAI\n",
    "from os import getenv\n",
    "from dotenv import load_dotenv # CARREGA A VARIÁVEL DE AMBIENTE OPENAI_KEY LIDA DO ARQUIVO .env\n",
    "\n",
    "from langchain.globals import set_debug\n",
    "set_debug(True)\n",
    "\n",
    "load_dotenv()\n",
    "\n",
    "llm = ChatOpenAI(\n",
    "    model=\"gpt-3.5-turbo\",\n",
    "    temperature=0.5,\n",
    "    api_key=getenv(\"OPENAI_KEY\"))\n",
    "\n",
    "parseador_saida = DatetimeOutputParser()\n",
    "modelo_data = \"\"\"Responda a pergunta do usuário: \n",
    "    {pergunta}\n",
    "\n",
    "    {formato_saida}\n",
    "\"\"\"\n",
    "\n",
    "prompt = PromptTemplate.from_template(\n",
    "    template=modelo_data,\n",
    "    partial_variables={\"formato_saida\": parseador_saida.get_format_instructions()}\n",
    ")\n",
    "\n",
    "# SOBREPONDO OS VALORES ACIMA\n",
    "PromptTemplate(\n",
    "    input_variables=['question'],\n",
    "    partial_variables={'formato_saida': \"\"\"Write a datetime string that matches the following pattern: \n",
    "                       '%Y-%m-%dT%H:%M:%S.%fZ'.\\n\\nExamples: 0668-08-09T12:56:32.732651Z, 1213-06-23T21:01:36.868629Z, 0713-07-06T18:19:02.257488Z\n",
    "                       \\n\\nReturn ONLY this string, no other words!\"\"\"}, \n",
    "    template='Answer the users question:\\n\\n{question}\\n\\n{format_instructions}'\n",
    ")\n",
    "\n",
    "# AQUI NÃO FOI USADO SimpleSequentialChain\n",
    "chain = prompt | llm | parseador_saida\n",
    "\n",
    "resposta = chain.invoke(input={\"pergunta\": \"Quando a bitcoin foi fundada?\"}) # AQUI USOU UM DICIONÁRIO, PORQUE O TEMPLATE TEM DOIS PLACEHOLDERS {pergunta} e {formato_saida}\n",
    "\n",
    "print(resposta)\n"
   ]
  },
  {
   "cell_type": "markdown",
   "id": "5a7f5446",
   "metadata": {},
   "source": [
    "#### <b>JsonOutputParser e PydanticOutputParser</b></br>\n",
    "O JsonOutputParser é particularmente útil quando a saída necessita ser mapeada em diferentes categorias ou itens. Suporta classes Pydantic, facilitando a transformação da saída do LLM em objetos estruturados e prontos para uso em aplicações. Isso é extremamente útil para sumarizar dados complexos, como tickets de suporte, em categorias distintas como Issue, Root Causes e Resolution.\n",
    "\n",
    "Exemplo"
   ]
  },
  {
   "cell_type": "code",
   "execution_count": null,
   "id": "43b7dd03",
   "metadata": {},
   "outputs": [],
   "source": [
    "from langchain.prompts import PromptTemplate\n",
    "from langchain_core.output_parsers import JsonOutputParser\n",
    "from langchain_core.pydantic_v1 import BaseModel, Field\n",
    "from langchain_openai import ChatOpenAI\n",
    "from os import getenv\n",
    "from dotenv import load_dotenv # CARREGA A VARIÁVEL DE AMBIENTE OPENAI_KEY LIDA DO ARQUIVO .env\n",
    "\n",
    "load_dotenv()\n",
    "\n",
    "from langchain.globals import set_debug\n",
    "set_debug(True)\n",
    "\n",
    "\n",
    "llm = ChatOpenAI(\n",
    "    model=\"gpt-3.5-turbo\",\n",
    "    temperature=0.5,\n",
    "    api_key=getenv(\"OPENAI_KEY\"))\n",
    "\n",
    "# Defina a classe com a estrutura desejada\n",
    "class Bandeira(BaseModel):\n",
    "    pais: str = Field(description=\"nome do pais\")\n",
    "    cores: str = Field(description=\"cor principal da bandeira\")\n",
    "    historia: str = Field(description=\"história da bandeira\")\n",
    "\n",
    "# Defina o prompt que será utilizado para pergunta\n",
    "flag_query = \"Me fale da bandeira do Brasil\"\n",
    "\n",
    "# Defina a estrutura que será utilizada para processar a saída\n",
    "parseador_bandeira = JsonOutputParser(pydantic_object=Bandeira)\n",
    "\n",
    "prompt = PromptTemplate(\n",
    "    template=\"Responda a pergunta do usuário.\\n{pergunta}\\n{instrucoes_formato}\\n\", # PROMPT TEMPLATE COM A PERGUNTA E SHOT DE SAÍDA\n",
    "    input_variables=[\"pergunta\"],\n",
    "    partial_variables={\"instrucoes_formato\": parseador_bandeira.get_format_instructions()},\n",
    ")\n",
    "\n",
    "chain = prompt | llm | parseador_bandeira\n",
    "\n",
    "chain.invoke({\"pergunta\": flag_query})"
   ]
  }
 ],
 "metadata": {
  "kernelspec": {
   "display_name": "langchain",
   "language": "python",
   "name": "python3"
  },
  "language_info": {
   "codemirror_mode": {
    "name": "ipython",
    "version": 3
   },
   "file_extension": ".py",
   "mimetype": "text/x-python",
   "name": "python",
   "nbconvert_exporter": "python",
   "pygments_lexer": "ipython3",
   "version": "3.12.10"
  }
 },
 "nbformat": 4,
 "nbformat_minor": 5
}
