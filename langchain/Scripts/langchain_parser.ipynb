{
 "cells": [
  {
   "cell_type": "markdown",
   "id": "b7738885",
   "metadata": {},
   "source": [
    "## <a href=\"https://cursos.alura.com.br/course/langchain-python-ferramentas-llm-openai/task/156164\"><b>Formatando a saída de uma cadeia com o JSONOutputParser</b></a><br/>\n",
    "Dar restart no kernel para limpar a memória. Não esquecer de liberar o scroll na última célula, para ver a saída completa."
   ]
  },
  {
   "cell_type": "markdown",
   "id": "274ba327",
   "metadata": {},
   "source": [
    "O objetivo é obter apenas a informação que desejo, e nenhum \"lixo\" a mais da IA"
   ]
  },
  {
   "cell_type": "code",
   "execution_count": 1,
   "id": "f79ff682",
   "metadata": {},
   "outputs": [],
   "source": [
    "from langchain.prompts import ChatPromptTemplate # Uma interação de múltiplos prompts é um chat, por isso, vamos importar um ChatPromptTemplate"
   ]
  },
  {
   "cell_type": "code",
   "execution_count": 2,
   "id": "a0cbabaf",
   "metadata": {},
   "outputs": [
    {
     "name": "stdout",
     "output_type": "stream",
     "text": [
      "Note: you may need to restart the kernel to use updated packages.\n"
     ]
    }
   ],
   "source": [
    "%pip install -qr requirements.txt"
   ]
  },
  {
   "cell_type": "markdown",
   "id": "d562675e",
   "metadata": {},
   "source": [
    "#### <b>PASSO 1 - IMPORTS e CRIAÇÃO DA LLM</b>"
   ]
  },
  {
   "cell_type": "code",
   "execution_count": 3,
   "id": "e2e38951",
   "metadata": {},
   "outputs": [],
   "source": [
    "from langchain_openai import ChatOpenAI\n",
    "from os import getenv\n",
    "from dotenv import load_dotenv # CARREGA A VARIÁVEL DE AMBIENTE OPENAI_KEY LIDA DO ARQUIVO .env\n",
    "\n",
    "load_dotenv() # CARREGANDO O ARQUIVO COM A OPENAI_KEY\n",
    "\n",
    "llm = ChatOpenAI( # INSTANCIANDO A LLM\n",
    "                    model=\"gpt-4.1-mini\",\n",
    "                    temperature=0.5,\n",
    "                    # 1 - OBTENDO A API KEY POR MEIO DA VARIÁVEL DE AMBIENTE OPENAI_KEY. QUE VAI FICAR ARMAZENADA NO ARQUIVO .env.\n",
    "                    # 2 - AINDA É NECESSÁRIO CARREGAR ESSE ARQUIVO. VER NA PRIMEIRA CÉLULA DO NOTEBOOK\n",
    "                    api_key=getenv(\"OPENAI_KEY\")\n",
    "                )"
   ]
  },
  {
   "cell_type": "markdown",
   "id": "9868db52",
   "metadata": {},
   "source": [
    "#### <b>PASSO 2 - CRIANDO O <i>PROMPT TEMPLATE</i> E ASSOCIANDO UM PARSER A ELE</b></br> "
   ]
  },
  {
   "cell_type": "markdown",
   "id": "b786694b",
   "metadata": {},
   "source": [
    "<b><ol><li>CRIANDO OS MODELOS</li></ol></b>"
   ]
  },
  {
   "cell_type": "markdown",
   "id": "e9523861",
   "metadata": {},
   "source": [
    "<ul><ul><li><b>CRIANDO O MODELO PARA A CIDADE</b></li></ul></ul>"
   ]
  },
  {
   "cell_type": "code",
   "execution_count": 4,
   "id": "fe2cb903",
   "metadata": {},
   "outputs": [],
   "source": [
    "# ANTES\n",
    "template_cidade = ChatPromptTemplate.from_template(\"Sugira uma cidade, dado o meu interesse por {interesse}\") # INSTANCIANDO ChatPromptTemplate e INICIANDO A PARTIR DE UM TEMPLATE"
   ]
  },
  {
   "cell_type": "markdown",
   "id": "6656417a",
   "metadata": {},
   "source": [
    "<ul><ul><li><b>CRIANDO O PARSER E ASSOCIANDO ELE AO MODELO</b></li></ul></ul>"
   ]
  },
  {
   "cell_type": "markdown",
   "id": "c7251740",
   "metadata": {},
   "source": [
    "<ul><ul><ul><li><b>Quero obter apenas o nome da cidade e o motivo, nenhuma outra informação a mais. Necessário trabalhar a saida.</b></li></ul></ul></ul>"
   ]
  },
  {
   "cell_type": "markdown",
   "id": "bdd7bafe",
   "metadata": {},
   "source": [
    "<ul><ul><ul><ul><li><b>PASSO 1 - Criar uma classe minha com os campos que preciso. Descreve o formato da saída</b></li></ul></ul></ul></ul>"
   ]
  },
  {
   "cell_type": "code",
   "execution_count": 5,
   "id": "3e31fff5",
   "metadata": {},
   "outputs": [],
   "source": [
    "from pydantic import Field,BaseModel # pydantic -> Biblioteca para validação de dados. Garante que os dados recebidos ou manipulados estejam no formato correto,\n",
    "                                     # BaseModel -> Os modelos pydantic são classes que herdam BaseModel (https://docs-pydantic-dev.translate.goog/latest/concepts/models/?_x_tr_sl=en&_x_tr_tl=pt&_x_tr_hl=pt&_x_tr_pto=tc)\n",
    "                                     # Modelos possuem campos como atributos.\n",
    "                                     \n",
    "                                     # Field -> Para personalizar os campos do modelo (https://docs-pydantic-dev.translate.goog/latest/concepts/fields/?_x_tr_sl=en&_x_tr_tl=pt&_x_tr_hl=pt&_x_tr_pto=tc)\n",
    "\n",
    "class Destino(BaseModel): # A nossa classe vai estender a classe BaseModel, que terá dois campos a cidade e o motivo de visitá-la\n",
    "    cidade: str = Field(description=\"cidade a visitar\") # Descrição do campo\n",
    "    motivo: str = Field(description=\"motivo pelo qual é interessante visitar\") # Descrição do campo  "
   ]
  },
  {
   "cell_type": "markdown",
   "id": "de6cae00",
   "metadata": {},
   "source": [
    "<ul><ul><ul><ul><li><b>PASSO 2 - Criando o parser para o template</b></li></ul></ul></ul></ul>"
   ]
  },
  {
   "cell_type": "code",
   "execution_count": null,
   "id": "90f4a663",
   "metadata": {},
   "outputs": [],
   "source": [
    "# DEPOIS\n",
    "from langchain import PromptTemplate\n",
    "from langchain_core.output_parsers import JsonOutputParser # EXISTEM DIVERSOS OUTPUT PARSERS (https://python.langchain.com/docs/concepts/output_parsers/)\n",
    "\n",
    "parseador = JsonOutputParser(pydantic_object=Destino) # DOCUMENTAÇÃO JsonOutputParser (https://python.langchain.com/docs/how_to/output_parser_json)\n",
    "\n",
    "template_cidade = PromptTemplate(\n",
    "                                    template=\"\"\"Sugira uma cidade, dado o meu interesse por {interesse}.\n",
    "                                    {formatacao_de_saida_da_ia}\"\"\", # AQUI TEMOS UMA VARÍAVEL PARCIAL\n",
    "                                    input_variables=[\"interesse\"],\n",
    "                                    partial_variables={\"formatacao_de_saida_da_ia\":parseador.get_format_instructions()}, # PASSANDO O PARSEADOR PARA A VARIÁVEL FORMATAÇÃO DE SAÍDA\n",
    "                                                                        \n",
    "                                ) # INSTANCIANDO PromptTemplate e INICIANDO A PARTIR DE UM TEMPLATE"
   ]
  },
  {
   "cell_type": "markdown",
   "id": "374a55f6",
   "metadata": {},
   "source": [
    "<b>DETALHES SOBRE A DOCUMENTAÇÃO</b></br></br>\n",
    "Ele coloca a tipagem do Field como string (opcional no nosso caso) e fazr outras coisas. Ao rolar a página para baixo, veremos que existem outros OutputParsers de saída, como os de XML, de CSV, de data, que retornam uma opção entre 5, que retornam um output estruturado em chave-valor, e assim por diante.\n",
    "\n",
    "Também podemos criar nosso próprio OutputParser, que vai dar as instruões e devolver no formato que quisermos utilizar. Contudo, não há garantia que ele vai funcionar sempre, assim como ele não garante nada na saída."
   ]
  },
  {
   "cell_type": "markdown",
   "id": "e5f3aa8f",
   "metadata": {},
   "source": [
    "<ul><ul><li><b>CRIANDO O MODELO PARA RESTAURANTES</b></li></ul></ul>"
   ]
  },
  {
   "cell_type": "code",
   "execution_count": 7,
   "id": "9b4341a0",
   "metadata": {},
   "outputs": [],
   "source": [
    "template_restaurante = ChatPromptTemplate.from_template(\"Sugira restaurantes populares entre locais na {cidade}\") # INSTANCIANDO ChatPromptTemplate e INICIANDO A PARTIR DE UM TEMPLATE"
   ]
  },
  {
   "cell_type": "markdown",
   "id": "5fa64bdb",
   "metadata": {},
   "source": [
    "<ul><ul><li><b>CRIANDO O MODELO CULTURAL</b></li></ul></ul>"
   ]
  },
  {
   "cell_type": "code",
   "execution_count": 8,
   "id": "69f74086",
   "metadata": {},
   "outputs": [],
   "source": [
    "template_cultural = ChatPromptTemplate.from_template(\"Sugira atividades e locais culturais em {cidade}\") # INSTANCIANDO ChatPromptTemplate e INICIANDO A PARTIR DE UM TEMPLATE"
   ]
  },
  {
   "cell_type": "markdown",
   "id": "c0851fe2",
   "metadata": {},
   "source": [
    "#### <b>PASSO 3 - CRIANDO AS CADEIAS</b></br> "
   ]
  },
  {
   "cell_type": "code",
   "execution_count": 9,
   "id": "abb11744",
   "metadata": {},
   "outputs": [
    {
     "name": "stderr",
     "output_type": "stream",
     "text": [
      "C:\\Users\\anton\\AppData\\Local\\Temp\\ipykernel_51684\\1311947484.py:3: LangChainDeprecationWarning: The class `LLMChain` was deprecated in LangChain 0.1.17 and will be removed in 1.0. Use :meth:`~RunnableSequence, e.g., `prompt | llm`` instead.\n",
      "  cadeia_cidade = LLMChain(llm=llm,prompt=template_cidade)\n"
     ]
    }
   ],
   "source": [
    "from langchain.chains import LLMChain\n",
    "\n",
    "cadeia_cidade = LLMChain(llm=llm,prompt=template_cidade)\n",
    "cadeia_restaurante = LLMChain(llm=llm,prompt=template_restaurante)\n",
    "cadeia_cultural = LLMChain(llm=llm,prompt=template_cultural)"
   ]
  },
  {
   "cell_type": "markdown",
   "id": "a5f2c37e",
   "metadata": {},
   "source": [
    "<b><ul><li>CRIANDO A CADEIA GERAL (SimpleSequentialChain)</li></ul></b>"
   ]
  },
  {
   "cell_type": "code",
   "execution_count": null,
   "id": "a8614511",
   "metadata": {},
   "outputs": [],
   "source": [
    "from langchain.chains import SimpleSequentialChain\n",
    "\n",
    "cadeia = SimpleSequentialChain(chains=[cadeia_cidade,cadeia_restaurante,cadeia_cultural],verbose=True)\n"
   ]
  },
  {
   "cell_type": "markdown",
   "id": "a847f1dd",
   "metadata": {},
   "source": [
    "#### <b>PASSO 4 - INVOCANDO A CADEIA GERAL</b>"
   ]
  },
  {
   "cell_type": "code",
   "execution_count": 11,
   "id": "b8ac64c5",
   "metadata": {},
   "outputs": [
    {
     "name": "stdout",
     "output_type": "stream",
     "text": [
      "\n",
      "\n",
      "\u001b[1m> Entering new SimpleSequentialChain chain...\u001b[0m\n",
      "\u001b[36;1m\u001b[1;3m{\n",
      "  \"cidade\": \"Florianópolis\",\n",
      "  \"motivo\": \"Possui praias paradisíacas, ótima infraestrutura turística e uma natureza exuberante, ideal para quem gosta de praias.\"\n",
      "}\u001b[0m\n",
      "\u001b[33;1m\u001b[1;3mClaro! Florianópolis é conhecida por suas praias incríveis e ótima gastronomia, especialmente frutos do mar frescos. Aqui estão alguns restaurantes populares entre os locais que você pode gostar:\n",
      "\n",
      "1. **Ostradamus**  \n",
      "   - Localização: Ribeirão da Ilha  \n",
      "   - Destaque: Especializado em ostras frescas e frutos do mar. Ambiente rústico e acolhedor, muito frequentado por moradores.\n",
      "\n",
      "2. **Bar do Arante**  \n",
      "   - Localização: Praia do Matadeiro  \n",
      "   - Destaque: Restaurante simples e tradicional, famoso por pratos de peixe e frutos do mar, com vista para o mar.\n",
      "\n",
      "3. **Box 32**  \n",
      "   - Localização: Mercado Público de Florianópolis  \n",
      "   - Destaque: Um dos melhores lugares para experimentar frutos do mar frescos e petiscos típicos, muito frequentado por locais.\n",
      "\n",
      "4. **Restaurante Ponta das Caranhas**  \n",
      "   - Localização: Lagoa da Conceição  \n",
      "   - Destaque: Ambiente agradável à beira da lagoa, com pratos variados que incluem frutos do mar e culinária regional.\n",
      "\n",
      "5. **Cacupé Restaurante**  \n",
      "   - Localização: Cacupé  \n",
      "   - Destaque: Vista panorâmica da baía, pratos sofisticados com ingredientes locais e frutos do mar.\n",
      "\n",
      "6. **Santo Antônio de Lisboa**  \n",
      "   - Região com vários restaurantes tradicionais, como o **Restaurante do Chico**, famoso por suas moquecas e peixes frescos.\n",
      "\n",
      "Se quiser uma experiência autêntica, vale a pena explorar os bairros tradicionais como Ribeirão da Ilha e Santo Antônio de Lisboa, onde a culinária açoriana é muito presente. Aproveite sua viagem e bom apetite!\u001b[0m\n",
      "\u001b[38;5;200m\u001b[1;3mClaro! Além das praias e da gastronomia, Florianópolis oferece diversas opções culturais que valem a pena conhecer. Aqui estão algumas sugestões de atividades e locais culturais para você aproveitar:\n",
      "\n",
      "### Atividades culturais em Florianópolis\n",
      "\n",
      "1. **Centro Histórico de Florianópolis**  \n",
      "   Explore o centro da cidade, onde você encontra construções históricas, igrejas antigas como a Catedral Metropolitana, e museus como o Museu Histórico de Santa Catarina. Aproveite para caminhar pela Praça XV de Novembro e conhecer o famoso \"Bugio\", um grande relógio de flores.\n",
      "\n",
      "2. **Mercado Público de Florianópolis**  \n",
      "   Além de ser um ótimo lugar para comer (como o Box 32 que você mencionou), o Mercado é um centro cultural com lojas de artesanato, peixarias e eventos culturais. Aos sábados, há feiras de artesanato e apresentações musicais.\n",
      "\n",
      "3. **Projeto TAMAR - Centro de Visitantes Florianópolis**  \n",
      "   Localizado na Barra da Lagoa, o TAMAR é um projeto de conservação das tartarugas marinhas. O centro oferece exposições educativas sobre a fauna marinha local e é uma ótima opção para quem gosta de natureza e cultura ambiental.\n",
      "\n",
      "4. **Museu Arqueológico de Sambaqui**  \n",
      "   Situado em Sambaqui, este museu apresenta a história dos primeiros habitantes da região, os povos indígenas que viviam em sambaquis (montes de conchas). Uma visita interessante para quem quer conhecer a história antiga da ilha.\n",
      "\n",
      "5. **Santo Antônio de Lisboa e Ribeirão da Ilha**  \n",
      "   Além da gastronomia, esses bairros são redutos da cultura açoriana, com arquitetura típica, artesanato local e festivais tradicionais. Vale a pena visitar as lojinhas de artesanato, as feirinhas e conversar com os moradores para conhecer mais sobre a cultura local.\n",
      "\n",
      "6. **Teatro Álvaro de Carvalho (TAC)**  \n",
      "   Um dos principais espaços culturais da cidade, o TAC oferece programação variada, como peças de teatro, shows e eventos culturais. Fique de olho na agenda para aproveitar alguma apresentação durante sua visita.\n",
      "\n",
      "7. **Fazenda da Ressacada**  \n",
      "   Um espaço cultural que promove eventos, feiras e exposições de arte, além de oferecer contato com a natureza e a história rural da região.\n",
      "\n",
      "### Dicas extras\n",
      "\n",
      "- **Feiras de artesanato**: Nos finais de semana, especialmente na Lagoa da Conceição e na Praça XV, você encontra feiras com artesanatos locais, ideal para comprar lembranças.\n",
      "- **Passeios de barco pela Baía Norte**: Além da paisagem, alguns passeios incluem visitas a ilhas e paradas para mergulho, com explicações sobre a história e a cultura local.\n",
      "- **Eventos culturais**: Se sua viagem coincidir com festivais locais (como a Festa do Divino Espírito Santo), não deixe de participar para uma experiência cultural autêntica.\n",
      "\n",
      "Se quiser mais sugestões ou detalhes sobre algum desses locais, é só avisar! Aproveite bastante Florianópolis!\u001b[0m\n",
      "\n",
      "\u001b[1m> Finished chain.\u001b[0m\n",
      "{'input': 'praias', 'output': 'Claro! Além das praias e da gastronomia, Florianópolis oferece diversas opções culturais que valem a pena conhecer. Aqui estão algumas sugestões de atividades e locais culturais para você aproveitar:\\n\\n### Atividades culturais em Florianópolis\\n\\n1. **Centro Histórico de Florianópolis**  \\n   Explore o centro da cidade, onde você encontra construções históricas, igrejas antigas como a Catedral Metropolitana, e museus como o Museu Histórico de Santa Catarina. Aproveite para caminhar pela Praça XV de Novembro e conhecer o famoso \"Bugio\", um grande relógio de flores.\\n\\n2. **Mercado Público de Florianópolis**  \\n   Além de ser um ótimo lugar para comer (como o Box 32 que você mencionou), o Mercado é um centro cultural com lojas de artesanato, peixarias e eventos culturais. Aos sábados, há feiras de artesanato e apresentações musicais.\\n\\n3. **Projeto TAMAR - Centro de Visitantes Florianópolis**  \\n   Localizado na Barra da Lagoa, o TAMAR é um projeto de conservação das tartarugas marinhas. O centro oferece exposições educativas sobre a fauna marinha local e é uma ótima opção para quem gosta de natureza e cultura ambiental.\\n\\n4. **Museu Arqueológico de Sambaqui**  \\n   Situado em Sambaqui, este museu apresenta a história dos primeiros habitantes da região, os povos indígenas que viviam em sambaquis (montes de conchas). Uma visita interessante para quem quer conhecer a história antiga da ilha.\\n\\n5. **Santo Antônio de Lisboa e Ribeirão da Ilha**  \\n   Além da gastronomia, esses bairros são redutos da cultura açoriana, com arquitetura típica, artesanato local e festivais tradicionais. Vale a pena visitar as lojinhas de artesanato, as feirinhas e conversar com os moradores para conhecer mais sobre a cultura local.\\n\\n6. **Teatro Álvaro de Carvalho (TAC)**  \\n   Um dos principais espaços culturais da cidade, o TAC oferece programação variada, como peças de teatro, shows e eventos culturais. Fique de olho na agenda para aproveitar alguma apresentação durante sua visita.\\n\\n7. **Fazenda da Ressacada**  \\n   Um espaço cultural que promove eventos, feiras e exposições de arte, além de oferecer contato com a natureza e a história rural da região.\\n\\n### Dicas extras\\n\\n- **Feiras de artesanato**: Nos finais de semana, especialmente na Lagoa da Conceição e na Praça XV, você encontra feiras com artesanatos locais, ideal para comprar lembranças.\\n- **Passeios de barco pela Baía Norte**: Além da paisagem, alguns passeios incluem visitas a ilhas e paradas para mergulho, com explicações sobre a história e a cultura local.\\n- **Eventos culturais**: Se sua viagem coincidir com festivais locais (como a Festa do Divino Espírito Santo), não deixe de participar para uma experiência cultural autêntica.\\n\\nSe quiser mais sugestões ou detalhes sobre algum desses locais, é só avisar! Aproveite bastante Florianópolis!'}\n"
     ]
    }
   ],
   "source": [
    "resposta = cadeia.invoke(input=\"praias\") # DIFERENTE DO QUE ACONTECEU COM O PROMPT TEMPLATE, AQUI INVOCAMOS A CADEIA, E COMTÉM UM TEMPLATE, E ELA INVOCA A LLM\n",
    "print(resposta)"
   ]
  },
  {
   "cell_type": "markdown",
   "id": "a98bd8b1",
   "metadata": {},
   "source": [
    "#### <b>OBTENDO APENAS O CONTEÚDO DA MENSAGEM</b>"
   ]
  },
  {
   "cell_type": "code",
   "execution_count": 12,
   "id": "8b472304",
   "metadata": {},
   "outputs": [
    {
     "name": "stdout",
     "output_type": "stream",
     "text": [
      "Claro! Além das praias e da gastronomia, Florianópolis oferece diversas opções culturais que valem a pena conhecer. Aqui estão algumas sugestões de atividades e locais culturais para você aproveitar:\n",
      "\n",
      "### Atividades culturais em Florianópolis\n",
      "\n",
      "1. **Centro Histórico de Florianópolis**  \n",
      "   Explore o centro da cidade, onde você encontra construções históricas, igrejas antigas como a Catedral Metropolitana, e museus como o Museu Histórico de Santa Catarina. Aproveite para caminhar pela Praça XV de Novembro e conhecer o famoso \"Bugio\", um grande relógio de flores.\n",
      "\n",
      "2. **Mercado Público de Florianópolis**  \n",
      "   Além de ser um ótimo lugar para comer (como o Box 32 que você mencionou), o Mercado é um centro cultural com lojas de artesanato, peixarias e eventos culturais. Aos sábados, há feiras de artesanato e apresentações musicais.\n",
      "\n",
      "3. **Projeto TAMAR - Centro de Visitantes Florianópolis**  \n",
      "   Localizado na Barra da Lagoa, o TAMAR é um projeto de conservação das tartarugas marinhas. O centro oferece exposições educativas sobre a fauna marinha local e é uma ótima opção para quem gosta de natureza e cultura ambiental.\n",
      "\n",
      "4. **Museu Arqueológico de Sambaqui**  \n",
      "   Situado em Sambaqui, este museu apresenta a história dos primeiros habitantes da região, os povos indígenas que viviam em sambaquis (montes de conchas). Uma visita interessante para quem quer conhecer a história antiga da ilha.\n",
      "\n",
      "5. **Santo Antônio de Lisboa e Ribeirão da Ilha**  \n",
      "   Além da gastronomia, esses bairros são redutos da cultura açoriana, com arquitetura típica, artesanato local e festivais tradicionais. Vale a pena visitar as lojinhas de artesanato, as feirinhas e conversar com os moradores para conhecer mais sobre a cultura local.\n",
      "\n",
      "6. **Teatro Álvaro de Carvalho (TAC)**  \n",
      "   Um dos principais espaços culturais da cidade, o TAC oferece programação variada, como peças de teatro, shows e eventos culturais. Fique de olho na agenda para aproveitar alguma apresentação durante sua visita.\n",
      "\n",
      "7. **Fazenda da Ressacada**  \n",
      "   Um espaço cultural que promove eventos, feiras e exposições de arte, além de oferecer contato com a natureza e a história rural da região.\n",
      "\n",
      "### Dicas extras\n",
      "\n",
      "- **Feiras de artesanato**: Nos finais de semana, especialmente na Lagoa da Conceição e na Praça XV, você encontra feiras com artesanatos locais, ideal para comprar lembranças.\n",
      "- **Passeios de barco pela Baía Norte**: Além da paisagem, alguns passeios incluem visitas a ilhas e paradas para mergulho, com explicações sobre a história e a cultura local.\n",
      "- **Eventos culturais**: Se sua viagem coincidir com festivais locais (como a Festa do Divino Espírito Santo), não deixe de participar para uma experiência cultural autêntica.\n",
      "\n",
      "Se quiser mais sugestões ou detalhes sobre algum desses locais, é só avisar! Aproveite bastante Florianópolis!\n"
     ]
    }
   ],
   "source": [
    "print(resposta['output'])"
   ]
  },
  {
   "cell_type": "markdown",
   "id": "3f0351ab",
   "metadata": {},
   "source": [
    "<ul><li><b>USANDO O MODO DEBUG DA SimpleSequentialChain</b></li></ul>"
   ]
  },
  {
   "cell_type": "code",
   "execution_count": 13,
   "id": "6ffac78e",
   "metadata": {},
   "outputs": [
    {
     "name": "stdout",
     "output_type": "stream",
     "text": [
      "\u001b[32;1m\u001b[1;3m[chain/start]\u001b[0m \u001b[1m[chain:SimpleSequentialChain] Entering Chain run with input:\n",
      "\u001b[0m{\n",
      "  \"input\": \"praias\"\n",
      "}\n",
      "\u001b[32;1m\u001b[1;3m[chain/start]\u001b[0m \u001b[1m[chain:SimpleSequentialChain > chain:LLMChain] Entering Chain run with input:\n",
      "\u001b[0m{\n",
      "  \"interesse\": \"praias\"\n",
      "}\n",
      "\u001b[32;1m\u001b[1;3m[llm/start]\u001b[0m \u001b[1m[chain:SimpleSequentialChain > chain:LLMChain > llm:ChatOpenAI] Entering LLM run with input:\n",
      "\u001b[0m{\n",
      "  \"prompts\": [\n",
      "    \"Human: Sugira uma cidade, dado o meu interesse por praias.\\n                                    The output should be formatted as a JSON instance that conforms to the JSON schema below.\\n\\nAs an example, for the schema {\\\"properties\\\": {\\\"foo\\\": {\\\"title\\\": \\\"Foo\\\", \\\"description\\\": \\\"a list of strings\\\", \\\"type\\\": \\\"array\\\", \\\"items\\\": {\\\"type\\\": \\\"string\\\"}}}, \\\"required\\\": [\\\"foo\\\"]}\\nthe object {\\\"foo\\\": [\\\"bar\\\", \\\"baz\\\"]} is a well-formatted instance of the schema. The object {\\\"properties\\\": {\\\"foo\\\": [\\\"bar\\\", \\\"baz\\\"]}} is not well-formatted.\\n\\nHere is the output schema:\\n```\\n{\\\"properties\\\": {\\\"cidade\\\": {\\\"description\\\": \\\"cidade a visitar\\\", \\\"title\\\": \\\"Cidade\\\", \\\"type\\\": \\\"string\\\"}, \\\"motivo\\\": {\\\"description\\\": \\\"motivo pelo qual é interessante visitar\\\", \\\"title\\\": \\\"Motivo\\\", \\\"type\\\": \\\"string\\\"}}, \\\"required\\\": [\\\"cidade\\\", \\\"motivo\\\"]}\\n```\"\n",
      "  ]\n",
      "}\n",
      "\u001b[36;1m\u001b[1;3m[llm/end]\u001b[0m \u001b[1m[chain:SimpleSequentialChain > chain:LLMChain > llm:ChatOpenAI] [1.60s] Exiting LLM run with output:\n",
      "\u001b[0m{\n",
      "  \"generations\": [\n",
      "    [\n",
      "      {\n",
      "        \"generation_info\": {\n",
      "          \"finish_reason\": \"stop\",\n",
      "          \"logprobs\": null\n",
      "        },\n",
      "        \"type\": \"ChatGeneration\",\n",
      "        \"message\": {\n",
      "          \"lc\": 1,\n",
      "          \"type\": \"constructor\",\n",
      "          \"id\": [\n",
      "            \"langchain\",\n",
      "            \"schema\",\n",
      "            \"messages\",\n",
      "            \"AIMessage\"\n",
      "          ],\n",
      "          \"kwargs\": {\n",
      "            \"content\": \"```json\\n{\\n  \\\"cidade\\\": \\\"Florianópolis\\\",\\n  \\\"motivo\\\": \\\"Possui diversas praias paradisíacas, com águas claras e ótima infraestrutura para turistas.\\\"\\n}\\n```\",\n",
      "            \"additional_kwargs\": {\n",
      "              \"refusal\": null\n",
      "            },\n",
      "            \"response_metadata\": {\n",
      "              \"token_usage\": {\n",
      "                \"completion_tokens\": 38,\n",
      "                \"prompt_tokens\": 205,\n",
      "                \"total_tokens\": 243,\n",
      "                \"completion_tokens_details\": {\n",
      "                  \"accepted_prediction_tokens\": 0,\n",
      "                  \"audio_tokens\": 0,\n",
      "                  \"reasoning_tokens\": 0,\n",
      "                  \"rejected_prediction_tokens\": 0\n",
      "                },\n",
      "                \"prompt_tokens_details\": {\n",
      "                  \"audio_tokens\": 0,\n",
      "                  \"cached_tokens\": 0\n",
      "                }\n",
      "              },\n",
      "              \"model_name\": \"gpt-4.1-mini-2025-04-14\",\n",
      "              \"system_fingerprint\": \"fp_6f2eabb9a5\",\n",
      "              \"finish_reason\": \"stop\",\n",
      "              \"logprobs\": null\n",
      "            },\n",
      "            \"type\": \"ai\",\n",
      "            \"id\": \"run--0f86717f-2385-4364-b3c3-d211290ba7e3-0\",\n",
      "            \"usage_metadata\": {\n",
      "              \"input_tokens\": 205,\n",
      "              \"output_tokens\": 38,\n",
      "              \"total_tokens\": 243,\n",
      "              \"input_token_details\": {\n",
      "                \"audio\": 0,\n",
      "                \"cache_read\": 0\n",
      "              },\n",
      "              \"output_token_details\": {\n",
      "                \"audio\": 0,\n",
      "                \"reasoning\": 0\n",
      "              }\n",
      "            },\n",
      "            \"tool_calls\": [],\n",
      "            \"invalid_tool_calls\": []\n",
      "          }\n",
      "        },\n",
      "        \"text\": \"```json\\n{\\n  \\\"cidade\\\": \\\"Florianópolis\\\",\\n  \\\"motivo\\\": \\\"Possui diversas praias paradisíacas, com águas claras e ótima infraestrutura para turistas.\\\"\\n}\\n```\"\n",
      "      }\n",
      "    ]\n",
      "  ],\n",
      "  \"llm_output\": {\n",
      "    \"token_usage\": {\n",
      "      \"completion_tokens\": 38,\n",
      "      \"prompt_tokens\": 205,\n",
      "      \"total_tokens\": 243,\n",
      "      \"completion_tokens_details\": {\n",
      "        \"accepted_prediction_tokens\": 0,\n",
      "        \"audio_tokens\": 0,\n",
      "        \"reasoning_tokens\": 0,\n",
      "        \"rejected_prediction_tokens\": 0\n",
      "      },\n",
      "      \"prompt_tokens_details\": {\n",
      "        \"audio_tokens\": 0,\n",
      "        \"cached_tokens\": 0\n",
      "      }\n",
      "    },\n",
      "    \"model_name\": \"gpt-4.1-mini-2025-04-14\",\n",
      "    \"system_fingerprint\": \"fp_6f2eabb9a5\"\n",
      "  },\n",
      "  \"run\": null,\n",
      "  \"type\": \"LLMResult\"\n",
      "}\n",
      "\u001b[36;1m\u001b[1;3m[chain/end]\u001b[0m \u001b[1m[chain:SimpleSequentialChain > chain:LLMChain] [1.60s] Exiting Chain run with output:\n",
      "\u001b[0m{\n",
      "  \"text\": \"```json\\n{\\n  \\\"cidade\\\": \\\"Florianópolis\\\",\\n  \\\"motivo\\\": \\\"Possui diversas praias paradisíacas, com águas claras e ótima infraestrutura para turistas.\\\"\\n}\\n```\"\n",
      "}\n",
      "\u001b[32;1m\u001b[1;3m[chain/start]\u001b[0m \u001b[1m[chain:SimpleSequentialChain > chain:LLMChain] Entering Chain run with input:\n",
      "\u001b[0m{\n",
      "  \"cidade\": \"```json\\n{\\n  \\\"cidade\\\": \\\"Florianópolis\\\",\\n  \\\"motivo\\\": \\\"Possui diversas praias paradisíacas, com águas claras e ótima infraestrutura para turistas.\\\"\\n}\\n```\"\n",
      "}\n",
      "\u001b[32;1m\u001b[1;3m[llm/start]\u001b[0m \u001b[1m[chain:SimpleSequentialChain > chain:LLMChain > llm:ChatOpenAI] Entering LLM run with input:\n",
      "\u001b[0m{\n",
      "  \"prompts\": [\n",
      "    \"Human: Sugira restaurantes populares entre locais na ```json\\n{\\n  \\\"cidade\\\": \\\"Florianópolis\\\",\\n  \\\"motivo\\\": \\\"Possui diversas praias paradisíacas, com águas claras e ótima infraestrutura para turistas.\\\"\\n}\\n```\"\n",
      "  ]\n",
      "}\n",
      "\u001b[36;1m\u001b[1;3m[llm/end]\u001b[0m \u001b[1m[chain:SimpleSequentialChain > chain:LLMChain > llm:ChatOpenAI] [5.86s] Exiting LLM run with output:\n",
      "\u001b[0m{\n",
      "  \"generations\": [\n",
      "    [\n",
      "      {\n",
      "        \"generation_info\": {\n",
      "          \"finish_reason\": \"stop\",\n",
      "          \"logprobs\": null\n",
      "        },\n",
      "        \"type\": \"ChatGeneration\",\n",
      "        \"message\": {\n",
      "          \"lc\": 1,\n",
      "          \"type\": \"constructor\",\n",
      "          \"id\": [\n",
      "            \"langchain\",\n",
      "            \"schema\",\n",
      "            \"messages\",\n",
      "            \"AIMessage\"\n",
      "          ],\n",
      "          \"kwargs\": {\n",
      "            \"content\": \"```json\\n{\\n  \\\"cidade\\\": \\\"Florianópolis\\\",\\n  \\\"motivo\\\": \\\"Possui diversas praias paradisíacas, com águas claras e ótima infraestrutura para turistas.\\\",\\n  \\\"restaurantes_populares_entre_locais\\\": [\\n    {\\n      \\\"nome\\\": \\\"Ostradamus\\\",\\n      \\\"descricao\\\": \\\"Restaurante tradicional especializado em frutos do mar, famoso pela qualidade das ostras e pratos frescos.\\\",\\n      \\\"localizacao\\\": \\\"Praia de Ribeirão da Ilha\\\"\\n    },\\n    {\\n      \\\"nome\\\": \\\"Bar do Boni\\\",\\n      \\\"descricao\\\": \\\"Bar e restaurante com ambiente descontraído, conhecido pelos petiscos e pratos típicos catarinenses.\\\",\\n      \\\"localizacao\\\": \\\"Centro de Florianópolis\\\"\\n    },\\n    {\\n      \\\"nome\\\": \\\"Box 32\\\",\\n      \\\"descricao\\\": \\\"Restaurante na Beira-Mar Norte, muito apreciado por moradores locais pela variedade de frutos do mar e ambiente agradável.\\\",\\n      \\\"localizacao\\\": \\\"Beira-Mar Norte\\\"\\n    },\\n    {\\n      \\\"nome\\\": \\\"Restaurante Ponta das Caranhas\\\",\\n      \\\"descricao\\\": \\\"Especializado em frutos do mar, com vista privilegiada para o mar e ambiente rústico chique.\\\",\\n      \\\"localizacao\\\": \\\"Ponta das Caranhas\\\"\\n    },\\n    {\\n      \\\"nome\\\": \\\"Cantina Sangiovese\\\",\\n      \\\"descricao\\\": \\\"Cantina italiana tradicional, muito frequentada por locais que apreciam massas artesanais e vinhos selecionados.\\\",\\n      \\\"localizacao\\\": \\\"Lagoa da Conceição\\\"\\n    }\\n  ]\\n}\\n```\",\n",
      "            \"additional_kwargs\": {\n",
      "              \"refusal\": null\n",
      "            },\n",
      "            \"response_metadata\": {\n",
      "              \"token_usage\": {\n",
      "                \"completion_tokens\": 321,\n",
      "                \"prompt_tokens\": 52,\n",
      "                \"total_tokens\": 373,\n",
      "                \"completion_tokens_details\": {\n",
      "                  \"accepted_prediction_tokens\": 0,\n",
      "                  \"audio_tokens\": 0,\n",
      "                  \"reasoning_tokens\": 0,\n",
      "                  \"rejected_prediction_tokens\": 0\n",
      "                },\n",
      "                \"prompt_tokens_details\": {\n",
      "                  \"audio_tokens\": 0,\n",
      "                  \"cached_tokens\": 0\n",
      "                }\n",
      "              },\n",
      "              \"model_name\": \"gpt-4.1-mini-2025-04-14\",\n",
      "              \"system_fingerprint\": \"fp_6f2eabb9a5\",\n",
      "              \"finish_reason\": \"stop\",\n",
      "              \"logprobs\": null\n",
      "            },\n",
      "            \"type\": \"ai\",\n",
      "            \"id\": \"run--82967b79-0fcf-490a-81ae-ca19f5687e62-0\",\n",
      "            \"usage_metadata\": {\n",
      "              \"input_tokens\": 52,\n",
      "              \"output_tokens\": 321,\n",
      "              \"total_tokens\": 373,\n",
      "              \"input_token_details\": {\n",
      "                \"audio\": 0,\n",
      "                \"cache_read\": 0\n",
      "              },\n",
      "              \"output_token_details\": {\n",
      "                \"audio\": 0,\n",
      "                \"reasoning\": 0\n",
      "              }\n",
      "            },\n",
      "            \"tool_calls\": [],\n",
      "            \"invalid_tool_calls\": []\n",
      "          }\n",
      "        },\n",
      "        \"text\": \"```json\\n{\\n  \\\"cidade\\\": \\\"Florianópolis\\\",\\n  \\\"motivo\\\": \\\"Possui diversas praias paradisíacas, com águas claras e ótima infraestrutura para turistas.\\\",\\n  \\\"restaurantes_populares_entre_locais\\\": [\\n    {\\n      \\\"nome\\\": \\\"Ostradamus\\\",\\n      \\\"descricao\\\": \\\"Restaurante tradicional especializado em frutos do mar, famoso pela qualidade das ostras e pratos frescos.\\\",\\n      \\\"localizacao\\\": \\\"Praia de Ribeirão da Ilha\\\"\\n    },\\n    {\\n      \\\"nome\\\": \\\"Bar do Boni\\\",\\n      \\\"descricao\\\": \\\"Bar e restaurante com ambiente descontraído, conhecido pelos petiscos e pratos típicos catarinenses.\\\",\\n      \\\"localizacao\\\": \\\"Centro de Florianópolis\\\"\\n    },\\n    {\\n      \\\"nome\\\": \\\"Box 32\\\",\\n      \\\"descricao\\\": \\\"Restaurante na Beira-Mar Norte, muito apreciado por moradores locais pela variedade de frutos do mar e ambiente agradável.\\\",\\n      \\\"localizacao\\\": \\\"Beira-Mar Norte\\\"\\n    },\\n    {\\n      \\\"nome\\\": \\\"Restaurante Ponta das Caranhas\\\",\\n      \\\"descricao\\\": \\\"Especializado em frutos do mar, com vista privilegiada para o mar e ambiente rústico chique.\\\",\\n      \\\"localizacao\\\": \\\"Ponta das Caranhas\\\"\\n    },\\n    {\\n      \\\"nome\\\": \\\"Cantina Sangiovese\\\",\\n      \\\"descricao\\\": \\\"Cantina italiana tradicional, muito frequentada por locais que apreciam massas artesanais e vinhos selecionados.\\\",\\n      \\\"localizacao\\\": \\\"Lagoa da Conceição\\\"\\n    }\\n  ]\\n}\\n```\"\n",
      "      }\n",
      "    ]\n",
      "  ],\n",
      "  \"llm_output\": {\n",
      "    \"token_usage\": {\n",
      "      \"completion_tokens\": 321,\n",
      "      \"prompt_tokens\": 52,\n",
      "      \"total_tokens\": 373,\n",
      "      \"completion_tokens_details\": {\n",
      "        \"accepted_prediction_tokens\": 0,\n",
      "        \"audio_tokens\": 0,\n",
      "        \"reasoning_tokens\": 0,\n",
      "        \"rejected_prediction_tokens\": 0\n",
      "      },\n",
      "      \"prompt_tokens_details\": {\n",
      "        \"audio_tokens\": 0,\n",
      "        \"cached_tokens\": 0\n",
      "      }\n",
      "    },\n",
      "    \"model_name\": \"gpt-4.1-mini-2025-04-14\",\n",
      "    \"system_fingerprint\": \"fp_6f2eabb9a5\"\n",
      "  },\n",
      "  \"run\": null,\n",
      "  \"type\": \"LLMResult\"\n",
      "}\n",
      "\u001b[36;1m\u001b[1;3m[chain/end]\u001b[0m \u001b[1m[chain:SimpleSequentialChain > chain:LLMChain] [5.86s] Exiting Chain run with output:\n",
      "\u001b[0m{\n",
      "  \"text\": \"```json\\n{\\n  \\\"cidade\\\": \\\"Florianópolis\\\",\\n  \\\"motivo\\\": \\\"Possui diversas praias paradisíacas, com águas claras e ótima infraestrutura para turistas.\\\",\\n  \\\"restaurantes_populares_entre_locais\\\": [\\n    {\\n      \\\"nome\\\": \\\"Ostradamus\\\",\\n      \\\"descricao\\\": \\\"Restaurante tradicional especializado em frutos do mar, famoso pela qualidade das ostras e pratos frescos.\\\",\\n      \\\"localizacao\\\": \\\"Praia de Ribeirão da Ilha\\\"\\n    },\\n    {\\n      \\\"nome\\\": \\\"Bar do Boni\\\",\\n      \\\"descricao\\\": \\\"Bar e restaurante com ambiente descontraído, conhecido pelos petiscos e pratos típicos catarinenses.\\\",\\n      \\\"localizacao\\\": \\\"Centro de Florianópolis\\\"\\n    },\\n    {\\n      \\\"nome\\\": \\\"Box 32\\\",\\n      \\\"descricao\\\": \\\"Restaurante na Beira-Mar Norte, muito apreciado por moradores locais pela variedade de frutos do mar e ambiente agradável.\\\",\\n      \\\"localizacao\\\": \\\"Beira-Mar Norte\\\"\\n    },\\n    {\\n      \\\"nome\\\": \\\"Restaurante Ponta das Caranhas\\\",\\n      \\\"descricao\\\": \\\"Especializado em frutos do mar, com vista privilegiada para o mar e ambiente rústico chique.\\\",\\n      \\\"localizacao\\\": \\\"Ponta das Caranhas\\\"\\n    },\\n    {\\n      \\\"nome\\\": \\\"Cantina Sangiovese\\\",\\n      \\\"descricao\\\": \\\"Cantina italiana tradicional, muito frequentada por locais que apreciam massas artesanais e vinhos selecionados.\\\",\\n      \\\"localizacao\\\": \\\"Lagoa da Conceição\\\"\\n    }\\n  ]\\n}\\n```\"\n",
      "}\n",
      "\u001b[32;1m\u001b[1;3m[chain/start]\u001b[0m \u001b[1m[chain:SimpleSequentialChain > chain:LLMChain] Entering Chain run with input:\n",
      "\u001b[0m{\n",
      "  \"cidade\": \"```json\\n{\\n  \\\"cidade\\\": \\\"Florianópolis\\\",\\n  \\\"motivo\\\": \\\"Possui diversas praias paradisíacas, com águas claras e ótima infraestrutura para turistas.\\\",\\n  \\\"restaurantes_populares_entre_locais\\\": [\\n    {\\n      \\\"nome\\\": \\\"Ostradamus\\\",\\n      \\\"descricao\\\": \\\"Restaurante tradicional especializado em frutos do mar, famoso pela qualidade das ostras e pratos frescos.\\\",\\n      \\\"localizacao\\\": \\\"Praia de Ribeirão da Ilha\\\"\\n    },\\n    {\\n      \\\"nome\\\": \\\"Bar do Boni\\\",\\n      \\\"descricao\\\": \\\"Bar e restaurante com ambiente descontraído, conhecido pelos petiscos e pratos típicos catarinenses.\\\",\\n      \\\"localizacao\\\": \\\"Centro de Florianópolis\\\"\\n    },\\n    {\\n      \\\"nome\\\": \\\"Box 32\\\",\\n      \\\"descricao\\\": \\\"Restaurante na Beira-Mar Norte, muito apreciado por moradores locais pela variedade de frutos do mar e ambiente agradável.\\\",\\n      \\\"localizacao\\\": \\\"Beira-Mar Norte\\\"\\n    },\\n    {\\n      \\\"nome\\\": \\\"Restaurante Ponta das Caranhas\\\",\\n      \\\"descricao\\\": \\\"Especializado em frutos do mar, com vista privilegiada para o mar e ambiente rústico chique.\\\",\\n      \\\"localizacao\\\": \\\"Ponta das Caranhas\\\"\\n    },\\n    {\\n      \\\"nome\\\": \\\"Cantina Sangiovese\\\",\\n      \\\"descricao\\\": \\\"Cantina italiana tradicional, muito frequentada por locais que apreciam massas artesanais e vinhos selecionados.\\\",\\n      \\\"localizacao\\\": \\\"Lagoa da Conceição\\\"\\n    }\\n  ]\\n}\\n```\"\n",
      "}\n",
      "\u001b[32;1m\u001b[1;3m[llm/start]\u001b[0m \u001b[1m[chain:SimpleSequentialChain > chain:LLMChain > llm:ChatOpenAI] Entering LLM run with input:\n",
      "\u001b[0m{\n",
      "  \"prompts\": [\n",
      "    \"Human: Sugira atividades e locais culturais em ```json\\n{\\n  \\\"cidade\\\": \\\"Florianópolis\\\",\\n  \\\"motivo\\\": \\\"Possui diversas praias paradisíacas, com águas claras e ótima infraestrutura para turistas.\\\",\\n  \\\"restaurantes_populares_entre_locais\\\": [\\n    {\\n      \\\"nome\\\": \\\"Ostradamus\\\",\\n      \\\"descricao\\\": \\\"Restaurante tradicional especializado em frutos do mar, famoso pela qualidade das ostras e pratos frescos.\\\",\\n      \\\"localizacao\\\": \\\"Praia de Ribeirão da Ilha\\\"\\n    },\\n    {\\n      \\\"nome\\\": \\\"Bar do Boni\\\",\\n      \\\"descricao\\\": \\\"Bar e restaurante com ambiente descontraído, conhecido pelos petiscos e pratos típicos catarinenses.\\\",\\n      \\\"localizacao\\\": \\\"Centro de Florianópolis\\\"\\n    },\\n    {\\n      \\\"nome\\\": \\\"Box 32\\\",\\n      \\\"descricao\\\": \\\"Restaurante na Beira-Mar Norte, muito apreciado por moradores locais pela variedade de frutos do mar e ambiente agradável.\\\",\\n      \\\"localizacao\\\": \\\"Beira-Mar Norte\\\"\\n    },\\n    {\\n      \\\"nome\\\": \\\"Restaurante Ponta das Caranhas\\\",\\n      \\\"descricao\\\": \\\"Especializado em frutos do mar, com vista privilegiada para o mar e ambiente rústico chique.\\\",\\n      \\\"localizacao\\\": \\\"Ponta das Caranhas\\\"\\n    },\\n    {\\n      \\\"nome\\\": \\\"Cantina Sangiovese\\\",\\n      \\\"descricao\\\": \\\"Cantina italiana tradicional, muito frequentada por locais que apreciam massas artesanais e vinhos selecionados.\\\",\\n      \\\"localizacao\\\": \\\"Lagoa da Conceição\\\"\\n    }\\n  ]\\n}\\n```\"\n",
      "  ]\n",
      "}\n",
      "\u001b[36;1m\u001b[1;3m[llm/end]\u001b[0m \u001b[1m[chain:SimpleSequentialChain > chain:LLMChain > llm:ChatOpenAI] [13.14s] Exiting LLM run with output:\n",
      "\u001b[0m{\n",
      "  \"generations\": [\n",
      "    [\n",
      "      {\n",
      "        \"generation_info\": {\n",
      "          \"finish_reason\": \"stop\",\n",
      "          \"logprobs\": null\n",
      "        },\n",
      "        \"type\": \"ChatGeneration\",\n",
      "        \"message\": {\n",
      "          \"lc\": 1,\n",
      "          \"type\": \"constructor\",\n",
      "          \"id\": [\n",
      "            \"langchain\",\n",
      "            \"schema\",\n",
      "            \"messages\",\n",
      "            \"AIMessage\"\n",
      "          ],\n",
      "          \"kwargs\": {\n",
      "            \"content\": \"```json\\n{\\n  \\\"atividades_culturais\\\": [\\n    {\\n      \\\"nome\\\": \\\"Museu Histórico de Santa Catarina\\\",\\n      \\\"descricao\\\": \\\"Localizado no centro de Florianópolis, o museu apresenta exposições sobre a história e cultura da região, com destaque para a colonização açoriana.\\\",\\n      \\\"localizacao\\\": \\\"Centro de Florianópolis\\\"\\n    },\\n    {\\n      \\\"nome\\\": \\\"Projeto Tamar - Centro de Visitantes Florianópolis\\\",\\n      \\\"descricao\\\": \\\"Espaço dedicado à conservação das tartarugas marinhas, com exposições educativas e possibilidade de observar de perto esses animais.\\\",\\n      \\\"localizacao\\\": \\\"Barra da Lagoa\\\"\\n    },\\n    {\\n      \\\"nome\\\": \\\"Mercado Público de Florianópolis\\\",\\n      \\\"descricao\\\": \\\"Ponto tradicional da cidade, onde é possível conhecer a cultura local, comprar artesanato e degustar comidas típicas em um ambiente vibrante.\\\",\\n      \\\"localizacao\\\": \\\"Centro de Florianópolis\\\"\\n    },\\n    {\\n      \\\"nome\\\": \\\"Casa da Alfândega\\\",\\n      \\\"descricao\\\": \\\"Espaço cultural que abriga exposições, feiras de artesanato e eventos culturais, situado em um prédio histórico à beira da Baía Norte.\\\",\\n      \\\"localizacao\\\": \\\"Centro de Florianópolis\\\"\\n    },\\n    {\\n      \\\"nome\\\": \\\"Teatro Álvaro de Carvalho (TAC)\\\",\\n      \\\"descricao\\\": \\\"Principal teatro da cidade, que oferece uma programação diversificada de peças, shows e eventos culturais.\\\",\\n      \\\"localizacao\\\": \\\"Centro de Florianópolis\\\"\\n    },\\n    {\\n      \\\"nome\\\": \\\"Fortaleza de São José da Ponta Grossa\\\",\\n      \\\"descricao\\\": \\\"Construção histórica do século XVIII, que oferece uma vista panorâmica da ilha e conta a história militar da região.\\\",\\n      \\\"localizacao\\\": \\\"Ponta Grossa, Florianópolis\\\"\\n    }\\n  ],\\n  \\\"locais_culturais_para_visitar\\\": [\\n    \\\"Centro Histórico de Florianópolis\\\",\\n    \\\"Praça XV de Novembro\\\",\\n    \\\"Largo da Alfândega\\\",\\n    \\\"Lagoa da Conceição (para eventos culturais e feiras de artesanato)\\\",\\n    \\\"Ilha do Campeche (com sítios arqueológicos e trilhas)\\\"\\n  ]\\n}\\n```\",\n",
      "            \"additional_kwargs\": {\n",
      "              \"refusal\": null\n",
      "            },\n",
      "            \"response_metadata\": {\n",
      "              \"token_usage\": {\n",
      "                \"completion_tokens\": 458,\n",
      "                \"prompt_tokens\": 335,\n",
      "                \"total_tokens\": 793,\n",
      "                \"completion_tokens_details\": {\n",
      "                  \"accepted_prediction_tokens\": 0,\n",
      "                  \"audio_tokens\": 0,\n",
      "                  \"reasoning_tokens\": 0,\n",
      "                  \"rejected_prediction_tokens\": 0\n",
      "                },\n",
      "                \"prompt_tokens_details\": {\n",
      "                  \"audio_tokens\": 0,\n",
      "                  \"cached_tokens\": 0\n",
      "                }\n",
      "              },\n",
      "              \"model_name\": \"gpt-4.1-mini-2025-04-14\",\n",
      "              \"system_fingerprint\": \"fp_79b79be41f\",\n",
      "              \"finish_reason\": \"stop\",\n",
      "              \"logprobs\": null\n",
      "            },\n",
      "            \"type\": \"ai\",\n",
      "            \"id\": \"run--73981373-c1e3-470f-ba9c-0013f496ddba-0\",\n",
      "            \"usage_metadata\": {\n",
      "              \"input_tokens\": 335,\n",
      "              \"output_tokens\": 458,\n",
      "              \"total_tokens\": 793,\n",
      "              \"input_token_details\": {\n",
      "                \"audio\": 0,\n",
      "                \"cache_read\": 0\n",
      "              },\n",
      "              \"output_token_details\": {\n",
      "                \"audio\": 0,\n",
      "                \"reasoning\": 0\n",
      "              }\n",
      "            },\n",
      "            \"tool_calls\": [],\n",
      "            \"invalid_tool_calls\": []\n",
      "          }\n",
      "        },\n",
      "        \"text\": \"```json\\n{\\n  \\\"atividades_culturais\\\": [\\n    {\\n      \\\"nome\\\": \\\"Museu Histórico de Santa Catarina\\\",\\n      \\\"descricao\\\": \\\"Localizado no centro de Florianópolis, o museu apresenta exposições sobre a história e cultura da região, com destaque para a colonização açoriana.\\\",\\n      \\\"localizacao\\\": \\\"Centro de Florianópolis\\\"\\n    },\\n    {\\n      \\\"nome\\\": \\\"Projeto Tamar - Centro de Visitantes Florianópolis\\\",\\n      \\\"descricao\\\": \\\"Espaço dedicado à conservação das tartarugas marinhas, com exposições educativas e possibilidade de observar de perto esses animais.\\\",\\n      \\\"localizacao\\\": \\\"Barra da Lagoa\\\"\\n    },\\n    {\\n      \\\"nome\\\": \\\"Mercado Público de Florianópolis\\\",\\n      \\\"descricao\\\": \\\"Ponto tradicional da cidade, onde é possível conhecer a cultura local, comprar artesanato e degustar comidas típicas em um ambiente vibrante.\\\",\\n      \\\"localizacao\\\": \\\"Centro de Florianópolis\\\"\\n    },\\n    {\\n      \\\"nome\\\": \\\"Casa da Alfândega\\\",\\n      \\\"descricao\\\": \\\"Espaço cultural que abriga exposições, feiras de artesanato e eventos culturais, situado em um prédio histórico à beira da Baía Norte.\\\",\\n      \\\"localizacao\\\": \\\"Centro de Florianópolis\\\"\\n    },\\n    {\\n      \\\"nome\\\": \\\"Teatro Álvaro de Carvalho (TAC)\\\",\\n      \\\"descricao\\\": \\\"Principal teatro da cidade, que oferece uma programação diversificada de peças, shows e eventos culturais.\\\",\\n      \\\"localizacao\\\": \\\"Centro de Florianópolis\\\"\\n    },\\n    {\\n      \\\"nome\\\": \\\"Fortaleza de São José da Ponta Grossa\\\",\\n      \\\"descricao\\\": \\\"Construção histórica do século XVIII, que oferece uma vista panorâmica da ilha e conta a história militar da região.\\\",\\n      \\\"localizacao\\\": \\\"Ponta Grossa, Florianópolis\\\"\\n    }\\n  ],\\n  \\\"locais_culturais_para_visitar\\\": [\\n    \\\"Centro Histórico de Florianópolis\\\",\\n    \\\"Praça XV de Novembro\\\",\\n    \\\"Largo da Alfândega\\\",\\n    \\\"Lagoa da Conceição (para eventos culturais e feiras de artesanato)\\\",\\n    \\\"Ilha do Campeche (com sítios arqueológicos e trilhas)\\\"\\n  ]\\n}\\n```\"\n",
      "      }\n",
      "    ]\n",
      "  ],\n",
      "  \"llm_output\": {\n",
      "    \"token_usage\": {\n",
      "      \"completion_tokens\": 458,\n",
      "      \"prompt_tokens\": 335,\n",
      "      \"total_tokens\": 793,\n",
      "      \"completion_tokens_details\": {\n",
      "        \"accepted_prediction_tokens\": 0,\n",
      "        \"audio_tokens\": 0,\n",
      "        \"reasoning_tokens\": 0,\n",
      "        \"rejected_prediction_tokens\": 0\n",
      "      },\n",
      "      \"prompt_tokens_details\": {\n",
      "        \"audio_tokens\": 0,\n",
      "        \"cached_tokens\": 0\n",
      "      }\n",
      "    },\n",
      "    \"model_name\": \"gpt-4.1-mini-2025-04-14\",\n",
      "    \"system_fingerprint\": \"fp_79b79be41f\"\n",
      "  },\n",
      "  \"run\": null,\n",
      "  \"type\": \"LLMResult\"\n",
      "}\n",
      "\u001b[36;1m\u001b[1;3m[chain/end]\u001b[0m \u001b[1m[chain:SimpleSequentialChain > chain:LLMChain] [13.14s] Exiting Chain run with output:\n",
      "\u001b[0m{\n",
      "  \"text\": \"```json\\n{\\n  \\\"atividades_culturais\\\": [\\n    {\\n      \\\"nome\\\": \\\"Museu Histórico de Santa Catarina\\\",\\n      \\\"descricao\\\": \\\"Localizado no centro de Florianópolis, o museu apresenta exposições sobre a história e cultura da região, com destaque para a colonização açoriana.\\\",\\n      \\\"localizacao\\\": \\\"Centro de Florianópolis\\\"\\n    },\\n    {\\n      \\\"nome\\\": \\\"Projeto Tamar - Centro de Visitantes Florianópolis\\\",\\n      \\\"descricao\\\": \\\"Espaço dedicado à conservação das tartarugas marinhas, com exposições educativas e possibilidade de observar de perto esses animais.\\\",\\n      \\\"localizacao\\\": \\\"Barra da Lagoa\\\"\\n    },\\n    {\\n      \\\"nome\\\": \\\"Mercado Público de Florianópolis\\\",\\n      \\\"descricao\\\": \\\"Ponto tradicional da cidade, onde é possível conhecer a cultura local, comprar artesanato e degustar comidas típicas em um ambiente vibrante.\\\",\\n      \\\"localizacao\\\": \\\"Centro de Florianópolis\\\"\\n    },\\n    {\\n      \\\"nome\\\": \\\"Casa da Alfândega\\\",\\n      \\\"descricao\\\": \\\"Espaço cultural que abriga exposições, feiras de artesanato e eventos culturais, situado em um prédio histórico à beira da Baía Norte.\\\",\\n      \\\"localizacao\\\": \\\"Centro de Florianópolis\\\"\\n    },\\n    {\\n      \\\"nome\\\": \\\"Teatro Álvaro de Carvalho (TAC)\\\",\\n      \\\"descricao\\\": \\\"Principal teatro da cidade, que oferece uma programação diversificada de peças, shows e eventos culturais.\\\",\\n      \\\"localizacao\\\": \\\"Centro de Florianópolis\\\"\\n    },\\n    {\\n      \\\"nome\\\": \\\"Fortaleza de São José da Ponta Grossa\\\",\\n      \\\"descricao\\\": \\\"Construção histórica do século XVIII, que oferece uma vista panorâmica da ilha e conta a história militar da região.\\\",\\n      \\\"localizacao\\\": \\\"Ponta Grossa, Florianópolis\\\"\\n    }\\n  ],\\n  \\\"locais_culturais_para_visitar\\\": [\\n    \\\"Centro Histórico de Florianópolis\\\",\\n    \\\"Praça XV de Novembro\\\",\\n    \\\"Largo da Alfândega\\\",\\n    \\\"Lagoa da Conceição (para eventos culturais e feiras de artesanato)\\\",\\n    \\\"Ilha do Campeche (com sítios arqueológicos e trilhas)\\\"\\n  ]\\n}\\n```\"\n",
      "}\n",
      "\u001b[36;1m\u001b[1;3m[chain/end]\u001b[0m \u001b[1m[chain:SimpleSequentialChain] [20.60s] Exiting Chain run with output:\n",
      "\u001b[0m{\n",
      "  \"output\": \"```json\\n{\\n  \\\"atividades_culturais\\\": [\\n    {\\n      \\\"nome\\\": \\\"Museu Histórico de Santa Catarina\\\",\\n      \\\"descricao\\\": \\\"Localizado no centro de Florianópolis, o museu apresenta exposições sobre a história e cultura da região, com destaque para a colonização açoriana.\\\",\\n      \\\"localizacao\\\": \\\"Centro de Florianópolis\\\"\\n    },\\n    {\\n      \\\"nome\\\": \\\"Projeto Tamar - Centro de Visitantes Florianópolis\\\",\\n      \\\"descricao\\\": \\\"Espaço dedicado à conservação das tartarugas marinhas, com exposições educativas e possibilidade de observar de perto esses animais.\\\",\\n      \\\"localizacao\\\": \\\"Barra da Lagoa\\\"\\n    },\\n    {\\n      \\\"nome\\\": \\\"Mercado Público de Florianópolis\\\",\\n      \\\"descricao\\\": \\\"Ponto tradicional da cidade, onde é possível conhecer a cultura local, comprar artesanato e degustar comidas típicas em um ambiente vibrante.\\\",\\n      \\\"localizacao\\\": \\\"Centro de Florianópolis\\\"\\n    },\\n    {\\n      \\\"nome\\\": \\\"Casa da Alfândega\\\",\\n      \\\"descricao\\\": \\\"Espaço cultural que abriga exposições, feiras de artesanato e eventos culturais, situado em um prédio histórico à beira da Baía Norte.\\\",\\n      \\\"localizacao\\\": \\\"Centro de Florianópolis\\\"\\n    },\\n    {\\n      \\\"nome\\\": \\\"Teatro Álvaro de Carvalho (TAC)\\\",\\n      \\\"descricao\\\": \\\"Principal teatro da cidade, que oferece uma programação diversificada de peças, shows e eventos culturais.\\\",\\n      \\\"localizacao\\\": \\\"Centro de Florianópolis\\\"\\n    },\\n    {\\n      \\\"nome\\\": \\\"Fortaleza de São José da Ponta Grossa\\\",\\n      \\\"descricao\\\": \\\"Construção histórica do século XVIII, que oferece uma vista panorâmica da ilha e conta a história militar da região.\\\",\\n      \\\"localizacao\\\": \\\"Ponta Grossa, Florianópolis\\\"\\n    }\\n  ],\\n  \\\"locais_culturais_para_visitar\\\": [\\n    \\\"Centro Histórico de Florianópolis\\\",\\n    \\\"Praça XV de Novembro\\\",\\n    \\\"Largo da Alfândega\\\",\\n    \\\"Lagoa da Conceição (para eventos culturais e feiras de artesanato)\\\",\\n    \\\"Ilha do Campeche (com sítios arqueológicos e trilhas)\\\"\\n  ]\\n}\\n```\"\n",
      "}\n",
      "{'input': 'praias', 'output': '```json\\n{\\n  \"atividades_culturais\": [\\n    {\\n      \"nome\": \"Museu Histórico de Santa Catarina\",\\n      \"descricao\": \"Localizado no centro de Florianópolis, o museu apresenta exposições sobre a história e cultura da região, com destaque para a colonização açoriana.\",\\n      \"localizacao\": \"Centro de Florianópolis\"\\n    },\\n    {\\n      \"nome\": \"Projeto Tamar - Centro de Visitantes Florianópolis\",\\n      \"descricao\": \"Espaço dedicado à conservação das tartarugas marinhas, com exposições educativas e possibilidade de observar de perto esses animais.\",\\n      \"localizacao\": \"Barra da Lagoa\"\\n    },\\n    {\\n      \"nome\": \"Mercado Público de Florianópolis\",\\n      \"descricao\": \"Ponto tradicional da cidade, onde é possível conhecer a cultura local, comprar artesanato e degustar comidas típicas em um ambiente vibrante.\",\\n      \"localizacao\": \"Centro de Florianópolis\"\\n    },\\n    {\\n      \"nome\": \"Casa da Alfândega\",\\n      \"descricao\": \"Espaço cultural que abriga exposições, feiras de artesanato e eventos culturais, situado em um prédio histórico à beira da Baía Norte.\",\\n      \"localizacao\": \"Centro de Florianópolis\"\\n    },\\n    {\\n      \"nome\": \"Teatro Álvaro de Carvalho (TAC)\",\\n      \"descricao\": \"Principal teatro da cidade, que oferece uma programação diversificada de peças, shows e eventos culturais.\",\\n      \"localizacao\": \"Centro de Florianópolis\"\\n    },\\n    {\\n      \"nome\": \"Fortaleza de São José da Ponta Grossa\",\\n      \"descricao\": \"Construção histórica do século XVIII, que oferece uma vista panorâmica da ilha e conta a história militar da região.\",\\n      \"localizacao\": \"Ponta Grossa, Florianópolis\"\\n    }\\n  ],\\n  \"locais_culturais_para_visitar\": [\\n    \"Centro Histórico de Florianópolis\",\\n    \"Praça XV de Novembro\",\\n    \"Largo da Alfândega\",\\n    \"Lagoa da Conceição (para eventos culturais e feiras de artesanato)\",\\n    \"Ilha do Campeche (com sítios arqueológicos e trilhas)\"\\n  ]\\n}\\n```'}\n"
     ]
    }
   ],
   "source": [
    "from langchain.globals import set_debug\n",
    "set_debug(True)\n",
    "\n",
    "resposta = cadeia.invoke(input=\"praias\")\n",
    "print(resposta)"
   ]
  },
  {
   "cell_type": "markdown",
   "id": "c3175d67",
   "metadata": {},
   "source": [
    "<b>RESULTADO DOS PROMPTS</b>"
   ]
  },
  {
   "cell_type": "markdown",
   "id": "6f49722a",
   "metadata": {},
   "source": [
    "\"prompts\": [\n",
    "    \"Human: Sugira uma cidade, dado o meu interesse por praias.\\n                                    The output should be formatted as a JSON instance that conforms to the JSON schema below.\\n\\nAs an example, for the schema {\\\"properties\\\": {\\\"foo\\\": {\\\"title\\\": \\\"Foo\\\", \\\"description\\\": \\\"a list of strings\\\", \\\"type\\\": \\\"array\\\", \\\"items\\\": {\\\"type\\\": \\\"string\\\"}}}, \\\"required\\\": [\\\"foo\\\"]}\\nthe object {\\\"foo\\\": [\\\"bar\\\", \\\"baz\\\"]} is a well-formatted instance of the schema. The object {\\\"properties\\\": {\\\"foo\\\": [\\\"bar\\\", \\\"baz\\\"]}} is not well-formatted.\\n\\nHere is the output schema:\\n```\\n{\\\"properties\\\": {\\\"cidade\\\": {\\\"description\\\": \\\"cidade a visitar\\\", \\\"title\\\": \\\"Cidade\\\", \\\"type\\\": \\\"string\\\"}, \\\"motivo\\\": {\\\"description\\\": \\\"motivo pelo qual é interessante visitar\\\", \\\"title\\\": \\\"Motivo\\\", \\\"type\\\": \\\"string\\\"}}, \\\"required\\\": [\\\"cidade\\\", \\\"motivo\\\"]}\\n```\"\n",
    "  ]"
   ]
  },
  {
   "cell_type": "markdown",
   "id": "6db7c448",
   "metadata": {},
   "source": [
    "[<font style=\"color: orange\">llm/start</font>] [chain:SimpleSequentialChain > chain:LLMChain > llm:ChatOpenAI] Entering LLM run with input:</br>\n",
    "{</br>\n",
    "  <ul>\"prompts\": [</br>\n",
    "    <ul><ul>\"Human: Sugira restaurantes populares entre locais na ```json\\n{\\n  \\\"cidade\\\": \\\"Florianópolis\\\",\\n  \\\"motivo\\\": \\\"Possui diversas praias paradisíacas, com águas claras e ótima infraestrutura para turistas.\\\"\\n}\\n```\"</ul></ul>\n",
    "  ]</ul>\n",
    "}</br>\n",
    "[<font style=\"color: orange\">llm/end</font>] [chain:SimpleSequentialChain > chain:LLMChain > llm:ChatOpenAI] [5.86s] Exiting LLM run with output:\n"
   ]
  },
  {
   "cell_type": "markdown",
   "id": "435e270a",
   "metadata": {},
   "source": [
    "\"prompts\": [\n",
    "    \"Human: Sugira atividades e locais culturais em ```json\\n{\\n  \\\"cidade\\\": \\\"Florianópolis\\\",\\n  \\\"motivo\\\": \\\"Possui diversas praias paradisíacas, com águas claras e ótima infraestrutura para turistas.\\\",\\n  \\\"restaurantes_populares_entre_locais\\\": [\\n    {\\n      \\\"nome\\\": \\\"Ostradamus\\\",\\n      \\\"descricao\\\": \\\"Restaurante tradicional especializado em frutos do mar, famoso pela qualidade das ostras e pratos frescos.\\\",\\n      \\\"localizacao\\\": \\\"Praia de Ribeirão da Ilha\\\"\\n    },\\n    {\\n      \\\"nome\\\": \\\"Bar do Boni\\\",\\n      \\\"descricao\\\": \\\"Bar e restaurante com ambiente descontraído, conhecido pelos petiscos e pratos típicos catarinenses.\\\",\\n      \\\"localizacao\\\": \\\"Centro de Florianópolis\\\"\\n    },\\n    {\\n      \\\"nome\\\": \\\"Box 32\\\",\\n      \\\"descricao\\\": \\\"Restaurante na Beira-Mar Norte, muito apreciado por moradores locais pela variedade de frutos do mar e ambiente agradável.\\\",\\n      \\\"localizacao\\\": \\\"Beira-Mar Norte\\\"\\n    },\\n    {\\n      \\\"nome\\\": \\\"Restaurante Ponta das Caranhas\\\",\\n      \\\"descricao\\\": \\\"Especializado em frutos do mar, com vista privilegiada para o mar e ambiente rústico chique.\\\",\\n      \\\"localizacao\\\": \\\"Ponta das Caranhas\\\"\\n    },\\n    {\\n      \\\"nome\\\": \\\"Cantina Sangiovese\\\",\\n      \\\"descricao\\\": \\\"Cantina italiana tradicional, muito frequentada por locais que apreciam massas artesanais e vinhos selecionados.\\\",\\n      \\\"localizacao\\\": \\\"Lagoa da Conceição\\\"\\n    }\\n  ]\\n}\\n```\"\n",
    "  ]"
   ]
  }
 ],
 "metadata": {
  "kernelspec": {
   "display_name": "langchain",
   "language": "python",
   "name": "python3"
  },
  "language_info": {
   "codemirror_mode": {
    "name": "ipython",
    "version": 3
   },
   "file_extension": ".py",
   "mimetype": "text/x-python",
   "name": "python",
   "nbconvert_exporter": "python",
   "pygments_lexer": "ipython3",
   "version": "3.12.10"
  }
 },
 "nbformat": 4,
 "nbformat_minor": 5
}
